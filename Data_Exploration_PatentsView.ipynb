{
 "cells": [
  {
   "cell_type": "markdown",
   "metadata": {},
   "source": [
    "# Data Exploration: Patents"
   ]
  },
  {
   "cell_type": "markdown",
   "metadata": {},
   "source": [
    "Written by: Daniela Hochfellner"
   ]
  },
  {
   "cell_type": "markdown",
   "metadata": {},
   "source": [
    "The patent files in the class folder were downloaded from PatentsView (https://www.patentsview.org/)."
   ]
  },
  {
   "cell_type": "markdown",
   "metadata": {},
   "source": [
    "We will start by exploring `patents_2018.csv` file."
   ]
  },
  {
   "cell_type": "markdown",
   "metadata": {},
   "source": [
    "#### Load the dataset \"patents_2018\" that is located in the data folder under patents in our shared drive and find out the number of rows and columns in the dataset."
   ]
  },
  {
   "cell_type": "code",
   "execution_count": 1,
   "metadata": {},
   "outputs": [],
   "source": [
    "# Import necessary libraries\n",
    "import pandas as pd"
   ]
  },
  {
   "cell_type": "code",
   "execution_count": 2,
   "metadata": {},
   "outputs": [],
   "source": [
    "# Specify the path for the folders where the data is present\n",
    "# For Windows users:\n",
    "path = \"C:/Users/PC Name/\"\n",
    "# For Mac users - skip the path variable"
   ]
  },
  {
   "cell_type": "code",
   "execution_count": 3,
   "metadata": {},
   "outputs": [],
   "source": [
    "# Specify a path and read it in\n",
    "# Windows users\n",
    "patents_2018 = pd.read_csv(path + 'Patents/Patents/patents_2018.csv')\n",
    "# Mac users - uncomment this line and run the code\n",
    "# patents_2018 = pd.read_csv('Patents/patents_2018.csv')"
   ]
  },
  {
   "cell_type": "code",
   "execution_count": 4,
   "metadata": {},
   "outputs": [
    {
     "data": {
      "text/plain": [
       "(134810, 17)"
      ]
     },
     "execution_count": 4,
     "metadata": {},
     "output_type": "execute_result"
    }
   ],
   "source": [
    "# Check the number of rows and columns in the file\n",
    "patents_2018.shape"
   ]
  },
  {
   "cell_type": "code",
   "execution_count": 5,
   "metadata": {},
   "outputs": [
    {
     "data": {
      "text/plain": [
       "Index(['patent_number', 'patent_title', 'patent_abstract',\n",
       "       'patent_num_cited_by_us_patents', 'patent_date', 'app_date',\n",
       "       'patent_firstnamed_inventor_name_first',\n",
       "       'patent_firstnamed_inventor_name_last',\n",
       "       'patent_firstnamed_inventor_city', 'patent_firstnamed_inventor_state',\n",
       "       'patent_firstnamed_inventor_latitude',\n",
       "       'patent_firstnamed_inventor_longitude',\n",
       "       'patent_firstnamed_assignee_organization',\n",
       "       'patent_firstnamed_assignee_city', 'patent_firstnamed_assignee_state',\n",
       "       'patent_firstnamed_assignee_latitude',\n",
       "       'patent_firstnamed_assignee_longitude'],\n",
       "      dtype='object')"
      ]
     },
     "execution_count": 5,
     "metadata": {},
     "output_type": "execute_result"
    }
   ],
   "source": [
    "# Check the available column names\n",
    "patents_2018.columns"
   ]
  },
  {
   "cell_type": "markdown",
   "metadata": {},
   "source": [
    "#### Select the first 50 rows of the \"patents_2018\" sorted by patent number and display them."
   ]
  },
  {
   "cell_type": "code",
   "execution_count": 6,
   "metadata": {},
   "outputs": [
    {
     "data": {
      "text/html": [
       "<div>\n",
       "<style scoped>\n",
       "    .dataframe tbody tr th:only-of-type {\n",
       "        vertical-align: middle;\n",
       "    }\n",
       "\n",
       "    .dataframe tbody tr th {\n",
       "        vertical-align: top;\n",
       "    }\n",
       "\n",
       "    .dataframe thead th {\n",
       "        text-align: right;\n",
       "    }\n",
       "</style>\n",
       "<table border=\"1\" class=\"dataframe\">\n",
       "  <thead>\n",
       "    <tr style=\"text-align: right;\">\n",
       "      <th></th>\n",
       "      <th>index</th>\n",
       "      <th>patent_number</th>\n",
       "      <th>patent_title</th>\n",
       "      <th>patent_abstract</th>\n",
       "      <th>patent_num_cited_by_us_patents</th>\n",
       "      <th>patent_date</th>\n",
       "      <th>app_date</th>\n",
       "      <th>patent_firstnamed_inventor_name_first</th>\n",
       "      <th>patent_firstnamed_inventor_name_last</th>\n",
       "      <th>patent_firstnamed_inventor_city</th>\n",
       "      <th>patent_firstnamed_inventor_state</th>\n",
       "      <th>patent_firstnamed_inventor_latitude</th>\n",
       "      <th>patent_firstnamed_inventor_longitude</th>\n",
       "      <th>patent_firstnamed_assignee_organization</th>\n",
       "      <th>patent_firstnamed_assignee_city</th>\n",
       "      <th>patent_firstnamed_assignee_state</th>\n",
       "      <th>patent_firstnamed_assignee_latitude</th>\n",
       "      <th>patent_firstnamed_assignee_longitude</th>\n",
       "    </tr>\n",
       "  </thead>\n",
       "  <tbody>\n",
       "    <tr>\n",
       "      <th>0</th>\n",
       "      <td>50080</td>\n",
       "      <td>10000000</td>\n",
       "      <td>Coherent LADAR using intra-pixel quadrature de...</td>\n",
       "      <td>A frequency modulated (coherent) laser detecti...</td>\n",
       "      <td>0</td>\n",
       "      <td>2018-06-19</td>\n",
       "      <td>2015-03-10</td>\n",
       "      <td>Joseph C.</td>\n",
       "      <td>Marron</td>\n",
       "      <td>Manhattan Beach</td>\n",
       "      <td>CA</td>\n",
       "      <td>33.8847</td>\n",
       "      <td>-118.4100</td>\n",
       "      <td>Raytheon Company</td>\n",
       "      <td>Waltham</td>\n",
       "      <td>MA</td>\n",
       "      <td>42.3764</td>\n",
       "      <td>-71.2361</td>\n",
       "    </tr>\n",
       "    <tr>\n",
       "      <th>1</th>\n",
       "      <td>78859</td>\n",
       "      <td>10000007</td>\n",
       "      <td>PEX expanding tool</td>\n",
       "      <td>An expanding tool comprising: an actuator comp...</td>\n",
       "      <td>0</td>\n",
       "      <td>2018-06-19</td>\n",
       "      <td>2016-06-10</td>\n",
       "      <td>Corey J.</td>\n",
       "      <td>Dickert</td>\n",
       "      <td>Brookfield</td>\n",
       "      <td>WI</td>\n",
       "      <td>43.0606</td>\n",
       "      <td>-88.1064</td>\n",
       "      <td>Milwaukee Electric Tool Corporation</td>\n",
       "      <td>Brookfield</td>\n",
       "      <td>WI</td>\n",
       "      <td>43.0606</td>\n",
       "      <td>-88.1064</td>\n",
       "    </tr>\n",
       "    <tr>\n",
       "      <th>2</th>\n",
       "      <td>122467</td>\n",
       "      <td>10000008</td>\n",
       "      <td>Bracelet mold and method of use</td>\n",
       "      <td>A decorated strip of coated, heat-shrinkable, ...</td>\n",
       "      <td>0</td>\n",
       "      <td>2018-06-19</td>\n",
       "      <td>2014-12-01</td>\n",
       "      <td>Liah</td>\n",
       "      <td>Caspi</td>\n",
       "      <td>Closter</td>\n",
       "      <td>NJ</td>\n",
       "      <td>40.9731</td>\n",
       "      <td>-73.9619</td>\n",
       "      <td>Alex Toys, LLC</td>\n",
       "      <td>Northvale</td>\n",
       "      <td>NJ</td>\n",
       "      <td>41.0064</td>\n",
       "      <td>-73.9494</td>\n",
       "    </tr>\n",
       "    <tr>\n",
       "      <th>3</th>\n",
       "      <td>27828</td>\n",
       "      <td>10000010</td>\n",
       "      <td>3-D electrostatic printer using rack and pinio...</td>\n",
       "      <td>3-D printing system include development statio...</td>\n",
       "      <td>0</td>\n",
       "      <td>2018-06-19</td>\n",
       "      <td>2016-06-29</td>\n",
       "      <td>Roberto A.</td>\n",
       "      <td>Irizarry</td>\n",
       "      <td>Rochester</td>\n",
       "      <td>NY</td>\n",
       "      <td>43.1547</td>\n",
       "      <td>-77.6158</td>\n",
       "      <td>Xerox Corporation</td>\n",
       "      <td>Norwalk</td>\n",
       "      <td>CT</td>\n",
       "      <td>41.1175</td>\n",
       "      <td>-73.4083</td>\n",
       "    </tr>\n",
       "    <tr>\n",
       "      <th>4</th>\n",
       "      <td>118182</td>\n",
       "      <td>10000011</td>\n",
       "      <td>Supports for sintering additively manufactured...</td>\n",
       "      <td>To reduce distortion in an additively manufact...</td>\n",
       "      <td>0</td>\n",
       "      <td>2018-06-19</td>\n",
       "      <td>2017-10-02</td>\n",
       "      <td>Gregory Thomas</td>\n",
       "      <td>Mark</td>\n",
       "      <td>Cambridge</td>\n",
       "      <td>MA</td>\n",
       "      <td>42.3750</td>\n",
       "      <td>-71.1061</td>\n",
       "      <td>MARKFORGED, INC.</td>\n",
       "      <td>Watertown</td>\n",
       "      <td>MA</td>\n",
       "      <td>42.3708</td>\n",
       "      <td>-71.1833</td>\n",
       "    </tr>\n",
       "  </tbody>\n",
       "</table>\n",
       "</div>"
      ],
      "text/plain": [
       "    index patent_number                                       patent_title  \\\n",
       "0   50080      10000000  Coherent LADAR using intra-pixel quadrature de...   \n",
       "1   78859      10000007                                 PEX expanding tool   \n",
       "2  122467      10000008                    Bracelet mold and method of use   \n",
       "3   27828      10000010  3-D electrostatic printer using rack and pinio...   \n",
       "4  118182      10000011  Supports for sintering additively manufactured...   \n",
       "\n",
       "                                     patent_abstract  \\\n",
       "0  A frequency modulated (coherent) laser detecti...   \n",
       "1  An expanding tool comprising: an actuator comp...   \n",
       "2  A decorated strip of coated, heat-shrinkable, ...   \n",
       "3  3-D printing system include development statio...   \n",
       "4  To reduce distortion in an additively manufact...   \n",
       "\n",
       "   patent_num_cited_by_us_patents patent_date    app_date  \\\n",
       "0                               0  2018-06-19  2015-03-10   \n",
       "1                               0  2018-06-19  2016-06-10   \n",
       "2                               0  2018-06-19  2014-12-01   \n",
       "3                               0  2018-06-19  2016-06-29   \n",
       "4                               0  2018-06-19  2017-10-02   \n",
       "\n",
       "  patent_firstnamed_inventor_name_first patent_firstnamed_inventor_name_last  \\\n",
       "0                             Joseph C.                               Marron   \n",
       "1                              Corey J.                              Dickert   \n",
       "2                                  Liah                                Caspi   \n",
       "3                            Roberto A.                             Irizarry   \n",
       "4                        Gregory Thomas                                 Mark   \n",
       "\n",
       "  patent_firstnamed_inventor_city patent_firstnamed_inventor_state  \\\n",
       "0                 Manhattan Beach                               CA   \n",
       "1                      Brookfield                               WI   \n",
       "2                         Closter                               NJ   \n",
       "3                       Rochester                               NY   \n",
       "4                       Cambridge                               MA   \n",
       "\n",
       "   patent_firstnamed_inventor_latitude  patent_firstnamed_inventor_longitude  \\\n",
       "0                              33.8847                             -118.4100   \n",
       "1                              43.0606                              -88.1064   \n",
       "2                              40.9731                              -73.9619   \n",
       "3                              43.1547                              -77.6158   \n",
       "4                              42.3750                              -71.1061   \n",
       "\n",
       "  patent_firstnamed_assignee_organization patent_firstnamed_assignee_city  \\\n",
       "0                        Raytheon Company                         Waltham   \n",
       "1     Milwaukee Electric Tool Corporation                      Brookfield   \n",
       "2                          Alex Toys, LLC                       Northvale   \n",
       "3                       Xerox Corporation                         Norwalk   \n",
       "4                        MARKFORGED, INC.                       Watertown   \n",
       "\n",
       "  patent_firstnamed_assignee_state  patent_firstnamed_assignee_latitude  \\\n",
       "0                               MA                              42.3764   \n",
       "1                               WI                              43.0606   \n",
       "2                               NJ                              41.0064   \n",
       "3                               CT                              41.1175   \n",
       "4                               MA                              42.3708   \n",
       "\n",
       "   patent_firstnamed_assignee_longitude  \n",
       "0                              -71.2361  \n",
       "1                              -88.1064  \n",
       "2                              -73.9494  \n",
       "3                              -73.4083  \n",
       "4                              -71.1833  "
      ]
     },
     "execution_count": 6,
     "metadata": {},
     "output_type": "execute_result"
    }
   ],
   "source": [
    "# Use .sort_values() function to sort by 'patent_number' (question: by highest or by lowest first? By defaut it sorts by lowest first.\n",
    "# if we want to sort by highest first, we need to specify .sort_values('patent_number', ascending=False))\n",
    "# .head(50) function returns first 50 rows of the sorted dataframe\n",
    "# .reset_index() function resets the index so it starts from 0 (because we sorted the dataframe, the indices are ordered as in the previous dataframe)\n",
    "\n",
    "patents_2018_sorted = patents_2018.sort_values('patent_number').head(50).reset_index()\n",
    "\n",
    "# View the first rows of the sorted dataframe\n",
    "patents_2018_sorted.head()"
   ]
  },
  {
   "cell_type": "markdown",
   "metadata": {},
   "source": [
    "#### How many unique first named inventors are in the file? A name in this case is a full name consisting of first and last name."
   ]
  },
  {
   "cell_type": "code",
   "execution_count": 7,
   "metadata": {},
   "outputs": [],
   "source": [
    "# Create a new column with the full name: concatenate first and last name\n",
    "patents_2018['inventor_full_name'] = patents_2018['patent_firstnamed_inventor_name_first'] + ' ' + patents_2018['patent_firstnamed_inventor_name_last']"
   ]
  },
  {
   "cell_type": "code",
   "execution_count": 8,
   "metadata": {},
   "outputs": [
    {
     "data": {
      "text/html": [
       "<div>\n",
       "<style scoped>\n",
       "    .dataframe tbody tr th:only-of-type {\n",
       "        vertical-align: middle;\n",
       "    }\n",
       "\n",
       "    .dataframe tbody tr th {\n",
       "        vertical-align: top;\n",
       "    }\n",
       "\n",
       "    .dataframe thead th {\n",
       "        text-align: right;\n",
       "    }\n",
       "</style>\n",
       "<table border=\"1\" class=\"dataframe\">\n",
       "  <thead>\n",
       "    <tr style=\"text-align: right;\">\n",
       "      <th></th>\n",
       "      <th>patent_number</th>\n",
       "      <th>patent_title</th>\n",
       "      <th>patent_abstract</th>\n",
       "      <th>patent_num_cited_by_us_patents</th>\n",
       "      <th>patent_date</th>\n",
       "      <th>app_date</th>\n",
       "      <th>patent_firstnamed_inventor_name_first</th>\n",
       "      <th>patent_firstnamed_inventor_name_last</th>\n",
       "      <th>patent_firstnamed_inventor_city</th>\n",
       "      <th>patent_firstnamed_inventor_state</th>\n",
       "      <th>patent_firstnamed_inventor_latitude</th>\n",
       "      <th>patent_firstnamed_inventor_longitude</th>\n",
       "      <th>patent_firstnamed_assignee_organization</th>\n",
       "      <th>patent_firstnamed_assignee_city</th>\n",
       "      <th>patent_firstnamed_assignee_state</th>\n",
       "      <th>patent_firstnamed_assignee_latitude</th>\n",
       "      <th>patent_firstnamed_assignee_longitude</th>\n",
       "      <th>inventor_full_name</th>\n",
       "    </tr>\n",
       "  </thead>\n",
       "  <tbody>\n",
       "    <tr>\n",
       "      <th>0</th>\n",
       "      <td>9854722</td>\n",
       "      <td>Tool bar mounting assembly for an agricultural...</td>\n",
       "      <td>A tool bar mounting assembly for an agricultur...</td>\n",
       "      <td>1</td>\n",
       "      <td>2018-01-02</td>\n",
       "      <td>2015-05-04</td>\n",
       "      <td>Timothy R.</td>\n",
       "      <td>Blunier</td>\n",
       "      <td>Danvers</td>\n",
       "      <td>IL</td>\n",
       "      <td>40.5294</td>\n",
       "      <td>-89.1772</td>\n",
       "      <td>CNH Industrial America LLC</td>\n",
       "      <td>New Holland</td>\n",
       "      <td>PA</td>\n",
       "      <td>40.1017</td>\n",
       "      <td>-76.0856</td>\n",
       "      <td>Timothy R. Blunier</td>\n",
       "    </tr>\n",
       "    <tr>\n",
       "      <th>1</th>\n",
       "      <td>9918424</td>\n",
       "      <td>Method for controlling wing tool bars of an ag...</td>\n",
       "      <td>A method for lifting wing tool bars of an agri...</td>\n",
       "      <td>0</td>\n",
       "      <td>2018-03-20</td>\n",
       "      <td>2014-09-09</td>\n",
       "      <td>Timothy R.</td>\n",
       "      <td>Blunier</td>\n",
       "      <td>Danvers</td>\n",
       "      <td>IL</td>\n",
       "      <td>40.5294</td>\n",
       "      <td>-89.1772</td>\n",
       "      <td>CNH Industrial America LLC</td>\n",
       "      <td>New Holland</td>\n",
       "      <td>PA</td>\n",
       "      <td>40.1017</td>\n",
       "      <td>-76.0856</td>\n",
       "      <td>Timothy R. Blunier</td>\n",
       "    </tr>\n",
       "  </tbody>\n",
       "</table>\n",
       "</div>"
      ],
      "text/plain": [
       "  patent_number                                       patent_title  \\\n",
       "0       9854722  Tool bar mounting assembly for an agricultural...   \n",
       "1       9918424  Method for controlling wing tool bars of an ag...   \n",
       "\n",
       "                                     patent_abstract  \\\n",
       "0  A tool bar mounting assembly for an agricultur...   \n",
       "1  A method for lifting wing tool bars of an agri...   \n",
       "\n",
       "   patent_num_cited_by_us_patents patent_date    app_date  \\\n",
       "0                               1  2018-01-02  2015-05-04   \n",
       "1                               0  2018-03-20  2014-09-09   \n",
       "\n",
       "  patent_firstnamed_inventor_name_first patent_firstnamed_inventor_name_last  \\\n",
       "0                            Timothy R.                              Blunier   \n",
       "1                            Timothy R.                              Blunier   \n",
       "\n",
       "  patent_firstnamed_inventor_city patent_firstnamed_inventor_state  \\\n",
       "0                         Danvers                               IL   \n",
       "1                         Danvers                               IL   \n",
       "\n",
       "   patent_firstnamed_inventor_latitude  patent_firstnamed_inventor_longitude  \\\n",
       "0                              40.5294                              -89.1772   \n",
       "1                              40.5294                              -89.1772   \n",
       "\n",
       "  patent_firstnamed_assignee_organization patent_firstnamed_assignee_city  \\\n",
       "0              CNH Industrial America LLC                     New Holland   \n",
       "1              CNH Industrial America LLC                     New Holland   \n",
       "\n",
       "  patent_firstnamed_assignee_state  patent_firstnamed_assignee_latitude  \\\n",
       "0                               PA                              40.1017   \n",
       "1                               PA                              40.1017   \n",
       "\n",
       "   patent_firstnamed_assignee_longitude  inventor_full_name  \n",
       "0                              -76.0856  Timothy R. Blunier  \n",
       "1                              -76.0856  Timothy R. Blunier  "
      ]
     },
     "execution_count": 8,
     "metadata": {},
     "output_type": "execute_result"
    }
   ],
   "source": [
    "# View the first rows of the dataframe\n",
    "patents_2018.head(2)"
   ]
  },
  {
   "cell_type": "code",
   "execution_count": 9,
   "metadata": {},
   "outputs": [
    {
     "data": {
      "text/plain": [
       "80190"
      ]
     },
     "execution_count": 9,
     "metadata": {},
     "output_type": "execute_result"
    }
   ],
   "source": [
    "# Check the number of unique full names of inventors\n",
    "patents_2018['inventor_full_name'].nunique()"
   ]
  },
  {
   "cell_type": "markdown",
   "metadata": {},
   "source": [
    "### Record Linkage exercise"
   ]
  },
  {
   "cell_type": "markdown",
   "metadata": {},
   "source": [
    "How many variations of the same institution name can there be in patent data?"
   ]
  },
  {
   "cell_type": "markdown",
   "metadata": {},
   "source": [
    "Let's check an example for the University of Alabama:"
   ]
  },
  {
   "cell_type": "code",
   "execution_count": 10,
   "metadata": {},
   "outputs": [],
   "source": [
    "# It is a good practice to first normalize the text by lowercasing it with str.lower() function\n",
    "patents_2018['assignee_lowercase'] = patents_2018['patent_firstnamed_assignee_organization'].str.lower()"
   ]
  },
  {
   "cell_type": "markdown",
   "metadata": {},
   "source": [
    "Use `str.contains()` function to subset by \"university of alabama\":"
   ]
  },
  {
   "cell_type": "code",
   "execution_count": 11,
   "metadata": {},
   "outputs": [],
   "source": [
    "# Save the result to a new dataframe called \"patents_2018_subset\"\n",
    "# Note: if you get an error: \"cannot index with vector containing NA / NaN values\", this means that for some patents\n",
    "# the assignee organization name is missing - you can use in this case \"na=False\" in str.contains() function\n",
    "\n",
    "patents_2018_subset = patents_2018[patents_2018['assignee_lowercase'].str.contains('university of alabama', na=False)]"
   ]
  },
  {
   "cell_type": "code",
   "execution_count": 12,
   "metadata": {},
   "outputs": [
    {
     "data": {
      "text/plain": [
       "array(['the board of trustees of the university of alabama',\n",
       "       'university of alabama in huntsville', 'the university of alabama'],\n",
       "      dtype=object)"
      ]
     },
     "execution_count": 12,
     "metadata": {},
     "output_type": "execute_result"
    }
   ],
   "source": [
    "# unique() function helps to check the unique values \n",
    "# We have several variations of the University of Alabama name\n",
    "patents_2018_subset['assignee_lowercase'].unique()"
   ]
  },
  {
   "cell_type": "markdown",
   "metadata": {},
   "source": [
    "When doing the record linkage, keep in mind that for your organization of interest, there could be multiple name variations in the administrative records."
   ]
  },
  {
   "cell_type": "markdown",
   "metadata": {},
   "source": [
    "**Record linkage practice**\n",
    "- **create individual-level links**: inventor (patent) <-> principal investigator (grant)\n",
    "- **create organization-level links**: assignee (patent) <-> organization (grant)"
   ]
  },
  {
   "cell_type": "markdown",
   "metadata": {},
   "source": [
    "We will show an example of linking on an individual's name and location (and you can repeat the same process for organizations)."
   ]
  },
  {
   "cell_type": "markdown",
   "metadata": {},
   "source": [
    "Patent data:\n",
    "\n",
    "- **Inventor** (the individual who conceived the invention)\n",
    "    - First name\n",
    "    - Last name\n",
    "    - Gender\n",
    "    - Location (City, State, Country, Latitude, Longitude, County, FIPS code (state), FIPS code (county))\n",
    "    - Co-inventor (a person who appears on the same patent or patent application as\n",
    "    another inventor)\n",
    "    \n",
    "    \n",
    "- **Assignee** (the name of the entity—company, foundation, partnership, holding company\n",
    "or individual—that owns the patent)\n",
    "    - First name (if assignee is individual)\n",
    "    - Last name (if assignee is individual)\n",
    "    - Organization name (if assignee is organization)\n",
    "    - Location (City, State, Country, Latitude, Longitude, County, FIPS code (state), FIPS code (county))"
   ]
  },
  {
   "cell_type": "markdown",
   "metadata": {},
   "source": [
    "Grant (Federal RePORTER) data:\n",
    "    \n",
    "- **Principal Investigator (PI) Project Leader**\n",
    "    - First name\n",
    "    - Last name\n",
    "- **Other PIs**\n",
    "    - First name\n",
    "    - Last name\n",
    "- **Organization name**\n",
    "- **Organization location** (City, State, Zip, Country)"
   ]
  },
  {
   "cell_type": "code",
   "execution_count": 13,
   "metadata": {},
   "outputs": [],
   "source": [
    "# Include only those columns with inventors that we need \n",
    "patents_2018_inventor = patents_2018[['patent_number','patent_firstnamed_inventor_name_first',\n",
    "       'patent_firstnamed_inventor_name_last',\n",
    "       'patent_firstnamed_inventor_city', 'patent_firstnamed_inventor_state']]"
   ]
  },
  {
   "cell_type": "code",
   "execution_count": 14,
   "metadata": {},
   "outputs": [],
   "source": [
    "# Rename columns to include shorter names\n",
    "patents_2018_inventor = patents_2018_inventor.rename(columns={'patent_firstnamed_inventor_name_first': 'name_first',\n",
    "                                                           'patent_firstnamed_inventor_name_last': 'name_last'})"
   ]
  },
  {
   "cell_type": "markdown",
   "metadata": {},
   "source": [
    "How are names formatted in patent and grant data?"
   ]
  },
  {
   "cell_type": "code",
   "execution_count": 15,
   "metadata": {},
   "outputs": [
    {
     "data": {
      "text/html": [
       "<div>\n",
       "<style scoped>\n",
       "    .dataframe tbody tr th:only-of-type {\n",
       "        vertical-align: middle;\n",
       "    }\n",
       "\n",
       "    .dataframe tbody tr th {\n",
       "        vertical-align: top;\n",
       "    }\n",
       "\n",
       "    .dataframe thead th {\n",
       "        text-align: right;\n",
       "    }\n",
       "</style>\n",
       "<table border=\"1\" class=\"dataframe\">\n",
       "  <thead>\n",
       "    <tr style=\"text-align: right;\">\n",
       "      <th></th>\n",
       "      <th>patent_number</th>\n",
       "      <th>name_first</th>\n",
       "      <th>name_last</th>\n",
       "      <th>patent_firstnamed_inventor_city</th>\n",
       "      <th>patent_firstnamed_inventor_state</th>\n",
       "    </tr>\n",
       "  </thead>\n",
       "  <tbody>\n",
       "    <tr>\n",
       "      <th>134805</th>\n",
       "      <td>PP29970</td>\n",
       "      <td>Robert</td>\n",
       "      <td>Dupont, Sr.</td>\n",
       "      <td>Plaquemine</td>\n",
       "      <td>LA</td>\n",
       "    </tr>\n",
       "    <tr>\n",
       "      <th>134806</th>\n",
       "      <td>PP30017</td>\n",
       "      <td>Robert Harold</td>\n",
       "      <td>Head</td>\n",
       "      <td>Seneca</td>\n",
       "      <td>SC</td>\n",
       "    </tr>\n",
       "    <tr>\n",
       "      <th>134807</th>\n",
       "      <td>RE47155</td>\n",
       "      <td>Gary C.</td>\n",
       "      <td>Troyer</td>\n",
       "      <td>Shreve</td>\n",
       "      <td>OH</td>\n",
       "    </tr>\n",
       "    <tr>\n",
       "      <th>134808</th>\n",
       "      <td>RE47158</td>\n",
       "      <td>Rainer M.</td>\n",
       "      <td>Schmitt</td>\n",
       "      <td>Palm Beach Gardens</td>\n",
       "      <td>FL</td>\n",
       "    </tr>\n",
       "    <tr>\n",
       "      <th>134809</th>\n",
       "      <td>RE47167</td>\n",
       "      <td>Sandeep</td>\n",
       "      <td>Natarajan</td>\n",
       "      <td>Portland</td>\n",
       "      <td>OR</td>\n",
       "    </tr>\n",
       "  </tbody>\n",
       "</table>\n",
       "</div>"
      ],
      "text/plain": [
       "       patent_number     name_first    name_last  \\\n",
       "134805       PP29970         Robert  Dupont, Sr.   \n",
       "134806       PP30017  Robert Harold         Head   \n",
       "134807       RE47155        Gary C.       Troyer   \n",
       "134808       RE47158      Rainer M.      Schmitt   \n",
       "134809       RE47167        Sandeep    Natarajan   \n",
       "\n",
       "       patent_firstnamed_inventor_city patent_firstnamed_inventor_state  \n",
       "134805                      Plaquemine                               LA  \n",
       "134806                          Seneca                               SC  \n",
       "134807                          Shreve                               OH  \n",
       "134808              Palm Beach Gardens                               FL  \n",
       "134809                        Portland                               OR  "
      ]
     },
     "execution_count": 15,
     "metadata": {},
     "output_type": "execute_result"
    }
   ],
   "source": [
    "patents_2018_inventor.tail()"
   ]
  },
  {
   "cell_type": "markdown",
   "metadata": {},
   "source": [
    "Patents:\n",
    "- First name, last name, and city name are capitalized\n",
    "- First names include middle name\n",
    "- Some middle names are fully spelled out and some are not"
   ]
  },
  {
   "cell_type": "markdown",
   "metadata": {},
   "source": [
    "We will try to match these individuals to grants data from 2015."
   ]
  },
  {
   "cell_type": "markdown",
   "metadata": {},
   "source": [
    "We take grants from 2015, in order to account for a time lag between the start of a grant and potential outputs (registered patents) from a grant.\n",
    "You can try using different thresholds (3 or 5 years after the grant) and compare the results."
   ]
  },
  {
   "cell_type": "code",
   "execution_count": 16,
   "metadata": {},
   "outputs": [],
   "source": [
    "# Add \"projects\" at the beginning of the path to a file\n",
    "# Windows users\n",
    "grants_2015 = pd.read_csv(path + \"Grants_Projects/Grants_Projects/FedRePORTER_PRJ_C_FY2015.csv\", skipinitialspace=True, low_memory=False)\n",
    "# Mac users\n",
    "# grants_2015 = pd.read_csv(\"Grants_Projects/FedRePORTER_PRJ_C_FY2015.csv\", skipinitialspace=True, low_memory=False)"
   ]
  },
  {
   "cell_type": "code",
   "execution_count": 17,
   "metadata": {},
   "outputs": [
    {
     "data": {
      "text/plain": [
       "Index(['PROJECT_ID', 'PROJECT_TERMS', 'PROJECT_TITLE', 'DEPARTMENT', 'AGENCY',\n",
       "       'IC_CENTER', 'PROJECT_NUMBER', 'PROJECT_START_DATE', 'PROJECT_END_DATE',\n",
       "       'CONTACT_PI_PROJECT_LEADER', 'OTHER_PIS', 'CONGRESSIONAL_DISTRICT',\n",
       "       'DUNS_NUMBER', 'ORGANIZATION_NAME', 'ORGANIZATION_CITY',\n",
       "       'ORGANIZATION_STATE', 'ORGANIZATION_ZIP', 'ORGANIZATION_COUNTRY',\n",
       "       'BUDGET_START_DATE', 'BUDGET_END_DATE', 'CFDA_CODE', 'FY',\n",
       "       'FY_TOTAL_COST', 'FY_TOTAL_COST_SUB_PROJECTS'],\n",
       "      dtype='object')"
      ]
     },
     "execution_count": 17,
     "metadata": {},
     "output_type": "execute_result"
    }
   ],
   "source": [
    "# Check the column names\n",
    "grants_2015.columns"
   ]
  },
  {
   "cell_type": "code",
   "execution_count": 18,
   "metadata": {},
   "outputs": [],
   "source": [
    "# Include only the column names that we need for a match on an individual level\n",
    "grants_2015_linkage = grants_2015[['PROJECT_ID','CONTACT_PI_PROJECT_LEADER','OTHER_PIS','ORGANIZATION_CITY',\n",
    "       'ORGANIZATION_STATE', 'ORGANIZATION_COUNTRY']]"
   ]
  },
  {
   "cell_type": "markdown",
   "metadata": {},
   "source": [
    "Let's check which countries are there in the dataset."
   ]
  },
  {
   "cell_type": "code",
   "execution_count": 19,
   "metadata": {},
   "outputs": [
    {
     "data": {
      "text/plain": [
       "array([nan, 'UNITED STATES', 'UGANDA', 'CANADA', 'ETHIOPIA', 'VIETNAM',\n",
       "       'MALI', 'CONGO', 'TANZANIA U REP', 'MALAWI', \"COTE D'IVOIRE\",\n",
       "       'HONG KONG', 'UKRAINE', 'ZAMBIA', 'KENYA', 'GUYANA', 'NAMIBIA',\n",
       "       'GHANA', 'ZIMBABWE', 'SWITZERLAND', 'INDIA', 'SOUTH AFRICA',\n",
       "       'AUSTRALIA', 'BELGIUM', 'THAILAND', 'HAITI', 'PERU', 'BRAZIL',\n",
       "       'BOTSWANA', 'ISRAEL', 'UNITED KINGDOM', 'CHINA', 'FRANCE',\n",
       "       'ICELAND', 'SRI LANKA', 'ARGENTINA', 'PAKISTAN', 'MEXICO',\n",
       "       'COLOMBIA', 'LEBANON', 'NIGERIA', 'CAMEROON', 'MOZAMBIQUE',\n",
       "       'TRINIDAD/TOBA', 'SPAIN', 'NICARAGUA', 'PORTUGAL', 'MALAYSIA',\n",
       "       'SWEDEN', 'FINLAND', 'DENMARK', 'CAMBODIA', 'FED MICRONESIA',\n",
       "       'RUSSIA', 'AUSTRIA', 'MOROCCO', 'AFGHANISTAN', 'BANGLADESH',\n",
       "       'CONGO DEM REP', 'ARMENIA', 'RWANDA', 'GEORGIA', 'GERMANY',\n",
       "       'PHILIPPINES', 'NEW ZEALAND', 'SURINAME', 'GUATEMALA', 'BENIN',\n",
       "       'TUNISIA', 'EGYPT', 'MADAGASCAR', 'PARAGUAY', 'NEPAL', 'BHUTAN',\n",
       "       'MALDIVES', 'KAZAKHSTAN', 'ALBANIA', 'MOLDOVA', 'PANAMA',\n",
       "       'NETHERLANDS', 'ITALY', 'MONGOLIA', 'TAJIKISTAN', 'KYRGYZSTAN',\n",
       "       'LESOTHO', 'EL SALVADOR', 'DOMINICAN REP', 'SWAZILAND', 'SENEGAL',\n",
       "       'INDONESIA', 'UZBEKISTAN', 'BARBADOS', 'BAHAMAS', 'GUINEA', 'TOGO',\n",
       "       'NORWAY', 'JORDAN', 'NEW CALEDONIA', 'BERMUDA', 'TAIWAN', 'JAPAN',\n",
       "       'SINGAPORE', 'KOREA REP OF', 'URUGUAY', '\\tUNITED STATES', 'CHILE',\n",
       "       'SEYCHELLES'], dtype=object)"
      ]
     },
     "execution_count": 19,
     "metadata": {},
     "output_type": "execute_result"
    }
   ],
   "source": [
    "grants_2015_linkage['ORGANIZATION_COUNTRY'].unique()"
   ]
  },
  {
   "cell_type": "markdown",
   "metadata": {},
   "source": [
    "Because our patent file is already filtered by United States, we will do the same for the grants data."
   ]
  },
  {
   "cell_type": "code",
   "execution_count": 20,
   "metadata": {},
   "outputs": [],
   "source": [
    "grants_2015_linkage = grants_2015_linkage[grants_2015_linkage['ORGANIZATION_COUNTRY'] == 'UNITED STATES']"
   ]
  },
  {
   "cell_type": "code",
   "execution_count": 21,
   "metadata": {},
   "outputs": [
    {
     "data": {
      "text/plain": [
       "array(['UNITED STATES'], dtype=object)"
      ]
     },
     "execution_count": 21,
     "metadata": {},
     "output_type": "execute_result"
    }
   ],
   "source": [
    "# Check that there is only United States now in the dataframe\n",
    "# .unique() checks for unique values\n",
    "grants_2015_linkage['ORGANIZATION_COUNTRY'].unique()"
   ]
  },
  {
   "cell_type": "markdown",
   "metadata": {},
   "source": [
    "**Compare inventor and grants table: what types of cleaning/standardization would we need to do?**"
   ]
  },
  {
   "cell_type": "code",
   "execution_count": 22,
   "metadata": {},
   "outputs": [
    {
     "data": {
      "text/html": [
       "<div>\n",
       "<style scoped>\n",
       "    .dataframe tbody tr th:only-of-type {\n",
       "        vertical-align: middle;\n",
       "    }\n",
       "\n",
       "    .dataframe tbody tr th {\n",
       "        vertical-align: top;\n",
       "    }\n",
       "\n",
       "    .dataframe thead th {\n",
       "        text-align: right;\n",
       "    }\n",
       "</style>\n",
       "<table border=\"1\" class=\"dataframe\">\n",
       "  <thead>\n",
       "    <tr style=\"text-align: right;\">\n",
       "      <th></th>\n",
       "      <th>patent_number</th>\n",
       "      <th>name_first</th>\n",
       "      <th>name_last</th>\n",
       "      <th>patent_firstnamed_inventor_city</th>\n",
       "      <th>patent_firstnamed_inventor_state</th>\n",
       "    </tr>\n",
       "  </thead>\n",
       "  <tbody>\n",
       "    <tr>\n",
       "      <th>134805</th>\n",
       "      <td>PP29970</td>\n",
       "      <td>Robert</td>\n",
       "      <td>Dupont, Sr.</td>\n",
       "      <td>Plaquemine</td>\n",
       "      <td>LA</td>\n",
       "    </tr>\n",
       "    <tr>\n",
       "      <th>134806</th>\n",
       "      <td>PP30017</td>\n",
       "      <td>Robert Harold</td>\n",
       "      <td>Head</td>\n",
       "      <td>Seneca</td>\n",
       "      <td>SC</td>\n",
       "    </tr>\n",
       "    <tr>\n",
       "      <th>134807</th>\n",
       "      <td>RE47155</td>\n",
       "      <td>Gary C.</td>\n",
       "      <td>Troyer</td>\n",
       "      <td>Shreve</td>\n",
       "      <td>OH</td>\n",
       "    </tr>\n",
       "    <tr>\n",
       "      <th>134808</th>\n",
       "      <td>RE47158</td>\n",
       "      <td>Rainer M.</td>\n",
       "      <td>Schmitt</td>\n",
       "      <td>Palm Beach Gardens</td>\n",
       "      <td>FL</td>\n",
       "    </tr>\n",
       "    <tr>\n",
       "      <th>134809</th>\n",
       "      <td>RE47167</td>\n",
       "      <td>Sandeep</td>\n",
       "      <td>Natarajan</td>\n",
       "      <td>Portland</td>\n",
       "      <td>OR</td>\n",
       "    </tr>\n",
       "  </tbody>\n",
       "</table>\n",
       "</div>"
      ],
      "text/plain": [
       "       patent_number     name_first    name_last  \\\n",
       "134805       PP29970         Robert  Dupont, Sr.   \n",
       "134806       PP30017  Robert Harold         Head   \n",
       "134807       RE47155        Gary C.       Troyer   \n",
       "134808       RE47158      Rainer M.      Schmitt   \n",
       "134809       RE47167        Sandeep    Natarajan   \n",
       "\n",
       "       patent_firstnamed_inventor_city patent_firstnamed_inventor_state  \n",
       "134805                      Plaquemine                               LA  \n",
       "134806                          Seneca                               SC  \n",
       "134807                          Shreve                               OH  \n",
       "134808              Palm Beach Gardens                               FL  \n",
       "134809                        Portland                               OR  "
      ]
     },
     "execution_count": 22,
     "metadata": {},
     "output_type": "execute_result"
    }
   ],
   "source": [
    "patents_2018_inventor.tail()"
   ]
  },
  {
   "cell_type": "code",
   "execution_count": 23,
   "metadata": {},
   "outputs": [
    {
     "data": {
      "text/html": [
       "<div>\n",
       "<style scoped>\n",
       "    .dataframe tbody tr th:only-of-type {\n",
       "        vertical-align: middle;\n",
       "    }\n",
       "\n",
       "    .dataframe tbody tr th {\n",
       "        vertical-align: top;\n",
       "    }\n",
       "\n",
       "    .dataframe thead th {\n",
       "        text-align: right;\n",
       "    }\n",
       "</style>\n",
       "<table border=\"1\" class=\"dataframe\">\n",
       "  <thead>\n",
       "    <tr style=\"text-align: right;\">\n",
       "      <th></th>\n",
       "      <th>PROJECT_ID</th>\n",
       "      <th>CONTACT_PI_PROJECT_LEADER</th>\n",
       "      <th>OTHER_PIS</th>\n",
       "      <th>ORGANIZATION_CITY</th>\n",
       "      <th>ORGANIZATION_STATE</th>\n",
       "      <th>ORGANIZATION_COUNTRY</th>\n",
       "    </tr>\n",
       "  </thead>\n",
       "  <tbody>\n",
       "    <tr>\n",
       "      <th>1</th>\n",
       "      <td>725476</td>\n",
       "      <td>DOWLING, PETER C</td>\n",
       "      <td>NaN</td>\n",
       "      <td>EAST ORANGE</td>\n",
       "      <td>NJ</td>\n",
       "      <td>UNITED STATES</td>\n",
       "    </tr>\n",
       "    <tr>\n",
       "      <th>2</th>\n",
       "      <td>725477</td>\n",
       "      <td>BEAUPRE, GARY,</td>\n",
       "      <td>NaN</td>\n",
       "      <td>PALO ALTO</td>\n",
       "      <td>CA</td>\n",
       "      <td>UNITED STATES</td>\n",
       "    </tr>\n",
       "    <tr>\n",
       "      <th>3</th>\n",
       "      <td>725478</td>\n",
       "      <td>SHAHIDI, MAHNAZ</td>\n",
       "      <td>NaN</td>\n",
       "      <td>CHICAGO</td>\n",
       "      <td>IL</td>\n",
       "      <td>UNITED STATES</td>\n",
       "    </tr>\n",
       "    <tr>\n",
       "      <th>4</th>\n",
       "      <td>725479</td>\n",
       "      <td>AKIN, FAITH WURM</td>\n",
       "      <td>NaN</td>\n",
       "      <td>MOUNTAIN HOME</td>\n",
       "      <td>TN</td>\n",
       "      <td>UNITED STATES</td>\n",
       "    </tr>\n",
       "    <tr>\n",
       "      <th>5</th>\n",
       "      <td>725480</td>\n",
       "      <td>BORST, STEPHEN E.</td>\n",
       "      <td>NaN</td>\n",
       "      <td>GAINESVILLE</td>\n",
       "      <td>FL</td>\n",
       "      <td>UNITED STATES</td>\n",
       "    </tr>\n",
       "  </tbody>\n",
       "</table>\n",
       "</div>"
      ],
      "text/plain": [
       "   PROJECT_ID CONTACT_PI_PROJECT_LEADER OTHER_PIS ORGANIZATION_CITY  \\\n",
       "1      725476          DOWLING, PETER C       NaN       EAST ORANGE   \n",
       "2      725477            BEAUPRE, GARY,       NaN         PALO ALTO   \n",
       "3      725478           SHAHIDI, MAHNAZ       NaN           CHICAGO   \n",
       "4      725479          AKIN, FAITH WURM       NaN     MOUNTAIN HOME   \n",
       "5      725480         BORST, STEPHEN E.       NaN       GAINESVILLE   \n",
       "\n",
       "  ORGANIZATION_STATE ORGANIZATION_COUNTRY  \n",
       "1                 NJ        UNITED STATES  \n",
       "2                 CA        UNITED STATES  \n",
       "3                 IL        UNITED STATES  \n",
       "4                 TN        UNITED STATES  \n",
       "5                 FL        UNITED STATES  "
      ]
     },
     "execution_count": 23,
     "metadata": {},
     "output_type": "execute_result"
    }
   ],
   "source": [
    "grants_2015_linkage.head()"
   ]
  },
  {
   "cell_type": "markdown",
   "metadata": {},
   "source": [
    "## The Importance of Pre-Processing\n",
    "Data pre-processing is an important step in a data anlysis project in general, in record linkage applications in particular. The goal of pre-processing is to transform messy data into a dataset that can be used in a project workflow.\n",
    "\n",
    "Linking records from different data sources comes with different challenges that need to be addressed by the analyst. The analyst must determine whether or not two entities (individuals, businesses, geographical units) on two different files are the same. This determination is not always easy. In most of the cases there is no common uniquely identifing characteristic for a entity. For example, is Bob Miller from New York the same person as Bob Miller from Chicago in a given dataset? This determination has to be executed carefully because consequences of wrong linkages may be substantial (is person X the same person as the person X on the list of identified terrorists). Pre-processing can help to make better informed decisions.\n",
    "\n",
    "Pre-processing can be difficult because there are a lot of things to keep in mind. For example, data input errors, such as typos, misspellings, truncation, abbreviations, and missing values need to be corrected. Literature shows that preprocessing can improve matches. \n",
    "\n",
    "“In situations of reasonably high-quality data, preprocessing can yield a greater improvement in matching efficiency than string comparators and ‘optimized’ parameters. In some situations, 90% of the improvement in matching efficiency may be due to preprocessing”. (Winkler 2009).\n",
    "\n",
    "The most common reason why matching projects fail is lack of time and resources for data cleaning. \n",
    "\n",
    "In the following section we will walk you through some pre-processing steps, these include but are not limited to removing spaces, parsing fields, and standardizing strings."
   ]
  },
  {
   "cell_type": "markdown",
   "metadata": {},
   "source": [
    "#### Clean Inventor Data\n",
    "We will start by cleaning and preprocessing the inventor data. We need to remove whitespaces, make sure that everything is in lower case, we need to parse the first name and middle name, and harmonize all the other information we need for the linkage."
   ]
  },
  {
   "cell_type": "markdown",
   "metadata": {},
   "source": [
    "The `recordlinkage` package comes with a built-in cleaning function we can use. "
   ]
  },
  {
   "cell_type": "markdown",
   "metadata": {},
   "source": [
    "The enviroment has the most commonly used packages installed so you are able to directly import them. Other packages might not be installed so we need to install them before we can import them. In this notebook we will be using the `recordlinkage` package which is not pre-installed. We can use the pip install command to install the package. On your home computer you only have to do this once. As our environment is only active for the current session we have to do this every time we open the binder."
   ]
  },
  {
   "cell_type": "code",
   "execution_count": 28,
   "metadata": {},
   "outputs": [
    {
     "name": "stdout",
     "output_type": "stream",
     "text": [
      "Collecting recordlinkage\n",
      "  Using cached recordlinkage-0.14-py3-none-any.whl (944 kB)\n",
      "Requirement already satisfied: scikit-learn>=0.19.0 in c:\\users\\ekaterina\\anaconda3\\lib\\site-packages (from recordlinkage) (0.23.2)\n",
      "Requirement already satisfied: pandas>=0.23 in c:\\users\\ekaterina\\anaconda3\\lib\\site-packages (from recordlinkage) (1.1.3)\n",
      "Requirement already satisfied: scipy>=1 in c:\\users\\ekaterina\\anaconda3\\lib\\site-packages (from recordlinkage) (1.5.2)\n",
      "Requirement already satisfied: joblib in c:\\users\\ekaterina\\anaconda3\\lib\\site-packages (from recordlinkage) (0.17.0)\n",
      "Collecting jellyfish>=0.5.4\n",
      "  Downloading jellyfish-0.9.0-cp38-cp38-win_amd64.whl (26 kB)\n",
      "Requirement already satisfied: numpy>=1.13.0 in c:\\users\\ekaterina\\anaconda3\\lib\\site-packages (from recordlinkage) (1.19.2)\n",
      "Requirement already satisfied: threadpoolctl>=2.0.0 in c:\\users\\ekaterina\\anaconda3\\lib\\site-packages (from scikit-learn>=0.19.0->recordlinkage) (2.1.0)\n",
      "Requirement already satisfied: python-dateutil>=2.7.3 in c:\\users\\ekaterina\\anaconda3\\lib\\site-packages (from pandas>=0.23->recordlinkage) (2.8.1)\n",
      "Requirement already satisfied: pytz>=2017.2 in c:\\users\\ekaterina\\anaconda3\\lib\\site-packages (from pandas>=0.23->recordlinkage) (2020.1)\n",
      "Requirement already satisfied: six>=1.5 in c:\\users\\ekaterina\\anaconda3\\lib\\site-packages (from python-dateutil>=2.7.3->pandas>=0.23->recordlinkage) (1.15.0)\n",
      "Installing collected packages: jellyfish, recordlinkage\n",
      "Successfully installed jellyfish-0.9.0 recordlinkage-0.14\n",
      "Note: you may need to restart the kernel to use updated packages.\n"
     ]
    }
   ],
   "source": [
    "# Install recordlinkage package\n",
    "%pip install recordlinkage "
   ]
  },
  {
   "cell_type": "code",
   "execution_count": 24,
   "metadata": {},
   "outputs": [],
   "source": [
    "# We now can import the needed functions from the \"recordlinkage\" package\n",
    "from recordlinkage.preprocessing import clean, phonetic"
   ]
  },
  {
   "cell_type": "markdown",
   "metadata": {},
   "source": [
    "The `clean()` function removes any characters such as `-`, `.`, `/`, `:`, brackets of all types, and also lowercases by default."
   ]
  },
  {
   "cell_type": "code",
   "execution_count": 25,
   "metadata": {
    "ExecuteTime": {
     "end_time": "2020-01-24T03:22:39.431548Z",
     "start_time": "2020-01-24T03:22:39.340122Z"
    }
   },
   "outputs": [],
   "source": [
    "# Cleaning names (using the record linkage package tool)\n",
    "patents_2018_inventor['name_last'] = clean(patents_2018_inventor['name_last'])\n",
    "patents_2018_inventor['name_first'] = clean(patents_2018_inventor['name_first'])"
   ]
  },
  {
   "cell_type": "code",
   "execution_count": 26,
   "metadata": {
    "ExecuteTime": {
     "end_time": "2020-01-24T03:22:39.472919Z",
     "start_time": "2020-01-24T03:22:39.438938Z"
    }
   },
   "outputs": [
    {
     "data": {
      "text/html": [
       "<div>\n",
       "<style scoped>\n",
       "    .dataframe tbody tr th:only-of-type {\n",
       "        vertical-align: middle;\n",
       "    }\n",
       "\n",
       "    .dataframe tbody tr th {\n",
       "        vertical-align: top;\n",
       "    }\n",
       "\n",
       "    .dataframe thead th {\n",
       "        text-align: right;\n",
       "    }\n",
       "</style>\n",
       "<table border=\"1\" class=\"dataframe\">\n",
       "  <thead>\n",
       "    <tr style=\"text-align: right;\">\n",
       "      <th></th>\n",
       "      <th>patent_number</th>\n",
       "      <th>name_first</th>\n",
       "      <th>name_last</th>\n",
       "      <th>patent_firstnamed_inventor_city</th>\n",
       "      <th>patent_firstnamed_inventor_state</th>\n",
       "    </tr>\n",
       "  </thead>\n",
       "  <tbody>\n",
       "    <tr>\n",
       "      <th>134805</th>\n",
       "      <td>PP29970</td>\n",
       "      <td>robert</td>\n",
       "      <td>dupont sr</td>\n",
       "      <td>Plaquemine</td>\n",
       "      <td>LA</td>\n",
       "    </tr>\n",
       "    <tr>\n",
       "      <th>134806</th>\n",
       "      <td>PP30017</td>\n",
       "      <td>robert harold</td>\n",
       "      <td>head</td>\n",
       "      <td>Seneca</td>\n",
       "      <td>SC</td>\n",
       "    </tr>\n",
       "    <tr>\n",
       "      <th>134807</th>\n",
       "      <td>RE47155</td>\n",
       "      <td>gary c</td>\n",
       "      <td>troyer</td>\n",
       "      <td>Shreve</td>\n",
       "      <td>OH</td>\n",
       "    </tr>\n",
       "    <tr>\n",
       "      <th>134808</th>\n",
       "      <td>RE47158</td>\n",
       "      <td>rainer m</td>\n",
       "      <td>schmitt</td>\n",
       "      <td>Palm Beach Gardens</td>\n",
       "      <td>FL</td>\n",
       "    </tr>\n",
       "    <tr>\n",
       "      <th>134809</th>\n",
       "      <td>RE47167</td>\n",
       "      <td>sandeep</td>\n",
       "      <td>natarajan</td>\n",
       "      <td>Portland</td>\n",
       "      <td>OR</td>\n",
       "    </tr>\n",
       "  </tbody>\n",
       "</table>\n",
       "</div>"
      ],
      "text/plain": [
       "       patent_number     name_first  name_last  \\\n",
       "134805       PP29970         robert  dupont sr   \n",
       "134806       PP30017  robert harold       head   \n",
       "134807       RE47155         gary c     troyer   \n",
       "134808       RE47158       rainer m    schmitt   \n",
       "134809       RE47167        sandeep  natarajan   \n",
       "\n",
       "       patent_firstnamed_inventor_city patent_firstnamed_inventor_state  \n",
       "134805                      Plaquemine                               LA  \n",
       "134806                          Seneca                               SC  \n",
       "134807                          Shreve                               OH  \n",
       "134808              Palm Beach Gardens                               FL  \n",
       "134809                        Portland                               OR  "
      ]
     },
     "execution_count": 26,
     "metadata": {},
     "output_type": "execute_result"
    }
   ],
   "source": [
    "# Let's take a look at names after the cleaning\n",
    "patents_2018_inventor.tail()"
   ]
  },
  {
   "cell_type": "markdown",
   "metadata": {},
   "source": [
    "We can parse and extract middle names."
   ]
  },
  {
   "cell_type": "code",
   "execution_count": 27,
   "metadata": {
    "ExecuteTime": {
     "end_time": "2020-01-24T03:22:39.527791Z",
     "start_time": "2020-01-24T03:22:39.483913Z"
    }
   },
   "outputs": [],
   "source": [
    "# Split by white space and extract first element for the first name,\n",
    "# second element for the middle name\n",
    "patents_2018_inventor['name_middle'] = patents_2018_inventor['name_first'].str.split(' ').str.get(1)\n",
    "patents_2018_inventor['name_first'] = patents_2018_inventor['name_first'].str.split(' ').str.get(0)"
   ]
  },
  {
   "cell_type": "code",
   "execution_count": 28,
   "metadata": {
    "ExecuteTime": {
     "end_time": "2020-01-24T03:22:39.688677Z",
     "start_time": "2020-01-24T03:22:39.538295Z"
    }
   },
   "outputs": [
    {
     "data": {
      "text/html": [
       "<div>\n",
       "<style scoped>\n",
       "    .dataframe tbody tr th:only-of-type {\n",
       "        vertical-align: middle;\n",
       "    }\n",
       "\n",
       "    .dataframe tbody tr th {\n",
       "        vertical-align: top;\n",
       "    }\n",
       "\n",
       "    .dataframe thead th {\n",
       "        text-align: right;\n",
       "    }\n",
       "</style>\n",
       "<table border=\"1\" class=\"dataframe\">\n",
       "  <thead>\n",
       "    <tr style=\"text-align: right;\">\n",
       "      <th></th>\n",
       "      <th>name_first</th>\n",
       "      <th>name_middle</th>\n",
       "      <th>name_last</th>\n",
       "    </tr>\n",
       "  </thead>\n",
       "  <tbody>\n",
       "    <tr>\n",
       "      <th>134805</th>\n",
       "      <td>robert</td>\n",
       "      <td>NaN</td>\n",
       "      <td>dupont sr</td>\n",
       "    </tr>\n",
       "    <tr>\n",
       "      <th>134806</th>\n",
       "      <td>robert</td>\n",
       "      <td>harold</td>\n",
       "      <td>head</td>\n",
       "    </tr>\n",
       "    <tr>\n",
       "      <th>134807</th>\n",
       "      <td>gary</td>\n",
       "      <td>c</td>\n",
       "      <td>troyer</td>\n",
       "    </tr>\n",
       "    <tr>\n",
       "      <th>134808</th>\n",
       "      <td>rainer</td>\n",
       "      <td>m</td>\n",
       "      <td>schmitt</td>\n",
       "    </tr>\n",
       "    <tr>\n",
       "      <th>134809</th>\n",
       "      <td>sandeep</td>\n",
       "      <td>NaN</td>\n",
       "      <td>natarajan</td>\n",
       "    </tr>\n",
       "  </tbody>\n",
       "</table>\n",
       "</div>"
      ],
      "text/plain": [
       "       name_first name_middle  name_last\n",
       "134805     robert         NaN  dupont sr\n",
       "134806     robert      harold       head\n",
       "134807       gary           c     troyer\n",
       "134808     rainer           m    schmitt\n",
       "134809    sandeep         NaN  natarajan"
      ]
     },
     "execution_count": 28,
     "metadata": {},
     "output_type": "execute_result"
    }
   ],
   "source": [
    "patents_2018_inventor[['name_first','name_middle','name_last']].tail()"
   ]
  },
  {
   "cell_type": "markdown",
   "metadata": {},
   "source": [
    "Now we are done with the inital data prep work for the inventor file. Please keep in mind that we just provided some examples for you to demonstrate the process. You can add as many further steps to it as necessary. "
   ]
  },
  {
   "cell_type": "markdown",
   "metadata": {},
   "source": [
    "#### Clean Grant Data\n",
    "Now we will clean and preprocess the grants data. We need a dataset that has the first, middle and last name of the researcher, the city, state, and country information. "
   ]
  },
  {
   "cell_type": "markdown",
   "metadata": {},
   "source": [
    "Here you can start cleaning the data and extract the information that we need to compare it to the inventor file. You want to find as many variables as you can match to as possible. You can also see that we have two field with names. You have the PI field, but you can extract more names from the OTHER PIs fields if you are interested. "
   ]
  },
  {
   "cell_type": "code",
   "execution_count": 29,
   "metadata": {},
   "outputs": [
    {
     "data": {
      "text/plain": [
       "Index(['PROJECT_ID', 'CONTACT_PI_PROJECT_LEADER', 'OTHER_PIS',\n",
       "       'ORGANIZATION_CITY', 'ORGANIZATION_STATE', 'ORGANIZATION_COUNTRY'],\n",
       "      dtype='object')"
      ]
     },
     "execution_count": 29,
     "metadata": {},
     "output_type": "execute_result"
    }
   ],
   "source": [
    "grants_2015_linkage.columns"
   ]
  },
  {
   "cell_type": "code",
   "execution_count": 30,
   "metadata": {
    "ExecuteTime": {
     "end_time": "2020-01-24T03:22:40.865538Z",
     "start_time": "2020-01-24T03:22:39.759908Z"
    }
   },
   "outputs": [],
   "source": [
    "# We will focus on cleaning the name of the main PI\n",
    "grants_2015_linkage['CONTACT_PI_PROJECT_LEADER'] = clean(grants_2015_linkage['CONTACT_PI_PROJECT_LEADER'])"
   ]
  },
  {
   "cell_type": "code",
   "execution_count": 31,
   "metadata": {
    "ExecuteTime": {
     "end_time": "2020-01-24T03:22:41.772933Z",
     "start_time": "2020-01-24T03:22:40.873624Z"
    }
   },
   "outputs": [],
   "source": [
    "# Parse out the first, middle, and last name from the full name\n",
    "grants_2015_linkage['name_first'] = grants_2015_linkage['CONTACT_PI_PROJECT_LEADER'].str.split(' ').str.get(1)\n",
    "grants_2015_linkage['name_last'] = grants_2015_linkage['CONTACT_PI_PROJECT_LEADER'].str.split(' ').str.get(0)\n",
    "grants_2015_linkage['name_middle'] = grants_2015_linkage['CONTACT_PI_PROJECT_LEADER'].str.split(' ').str.get(2)"
   ]
  },
  {
   "cell_type": "code",
   "execution_count": 32,
   "metadata": {
    "ExecuteTime": {
     "end_time": "2020-01-24T03:22:41.803270Z",
     "start_time": "2020-01-24T03:22:41.777105Z"
    }
   },
   "outputs": [
    {
     "data": {
      "text/html": [
       "<div>\n",
       "<style scoped>\n",
       "    .dataframe tbody tr th:only-of-type {\n",
       "        vertical-align: middle;\n",
       "    }\n",
       "\n",
       "    .dataframe tbody tr th {\n",
       "        vertical-align: top;\n",
       "    }\n",
       "\n",
       "    .dataframe thead th {\n",
       "        text-align: right;\n",
       "    }\n",
       "</style>\n",
       "<table border=\"1\" class=\"dataframe\">\n",
       "  <thead>\n",
       "    <tr style=\"text-align: right;\">\n",
       "      <th></th>\n",
       "      <th>CONTACT_PI_PROJECT_LEADER</th>\n",
       "      <th>name_first</th>\n",
       "      <th>name_middle</th>\n",
       "      <th>name_last</th>\n",
       "    </tr>\n",
       "  </thead>\n",
       "  <tbody>\n",
       "    <tr>\n",
       "      <th>1</th>\n",
       "      <td>dowling peter c</td>\n",
       "      <td>peter</td>\n",
       "      <td>c</td>\n",
       "      <td>dowling</td>\n",
       "    </tr>\n",
       "    <tr>\n",
       "      <th>2</th>\n",
       "      <td>beaupre gary</td>\n",
       "      <td>gary</td>\n",
       "      <td>NaN</td>\n",
       "      <td>beaupre</td>\n",
       "    </tr>\n",
       "    <tr>\n",
       "      <th>3</th>\n",
       "      <td>shahidi mahnaz</td>\n",
       "      <td>mahnaz</td>\n",
       "      <td>NaN</td>\n",
       "      <td>shahidi</td>\n",
       "    </tr>\n",
       "    <tr>\n",
       "      <th>4</th>\n",
       "      <td>akin faith wurm</td>\n",
       "      <td>faith</td>\n",
       "      <td>wurm</td>\n",
       "      <td>akin</td>\n",
       "    </tr>\n",
       "    <tr>\n",
       "      <th>5</th>\n",
       "      <td>borst stephen e</td>\n",
       "      <td>stephen</td>\n",
       "      <td>e</td>\n",
       "      <td>borst</td>\n",
       "    </tr>\n",
       "  </tbody>\n",
       "</table>\n",
       "</div>"
      ],
      "text/plain": [
       "  CONTACT_PI_PROJECT_LEADER name_first name_middle name_last\n",
       "1           dowling peter c      peter           c   dowling\n",
       "2              beaupre gary       gary         NaN   beaupre\n",
       "3            shahidi mahnaz     mahnaz         NaN   shahidi\n",
       "4           akin faith wurm      faith        wurm      akin\n",
       "5           borst stephen e    stephen           e     borst"
      ]
     },
     "execution_count": 32,
     "metadata": {},
     "output_type": "execute_result"
    }
   ],
   "source": [
    "grants_2015_linkage[['CONTACT_PI_PROJECT_LEADER','name_first','name_middle','name_last']].head()"
   ]
  },
  {
   "cell_type": "code",
   "execution_count": 33,
   "metadata": {},
   "outputs": [],
   "source": [
    "names = 'dowling peter c'"
   ]
  },
  {
   "cell_type": "code",
   "execution_count": 34,
   "metadata": {},
   "outputs": [
    {
     "data": {
      "text/plain": [
       "['dowling', 'peter', 'c']"
      ]
     },
     "execution_count": 34,
     "metadata": {},
     "output_type": "execute_result"
    }
   ],
   "source": [
    "names.split(' ')"
   ]
  },
  {
   "cell_type": "markdown",
   "metadata": {},
   "source": [
    "We will add one more thing: **phonetic processing**.\n",
    "\n",
    "Sometimes, words or names are recorded differently because they are written down as they sound. This can result in failed matches, because the same organization or individual will technically have different written names, even though the names would sound identically when pronounced out loud. To avoid these issues, we will add one more thing: a soundex (a phonetic algorithm for indexing names by sound, as pronounced in English).\n",
    "\n",
    "The `phonetic()` function is used to convert strings into their corresponding phonetic codes. This is particularly useful when comparing names where different possible spellings make it difficult to find exact matches (e.g. Jillian and Gillian).\n",
    "\n",
    "Let's add a column called `phonetic_name` to our existing table, which will contain the result of applying a `phonetic` function to the name (the phonetic transcription of the name). We are using a method called NYSIIS - the New York State Identification and Intelligence System phonetic code.\n",
    "\n",
    "More about this method: https://recordlinkage.readthedocs.io/en/latest/ref-preprocessing.html#phonetic-encoding"
   ]
  },
  {
   "cell_type": "code",
   "execution_count": 35,
   "metadata": {
    "ExecuteTime": {
     "end_time": "2020-01-24T03:22:43.022798Z",
     "start_time": "2020-01-24T03:22:41.811110Z"
    }
   },
   "outputs": [],
   "source": [
    "patents_2018_inventor[\"phonetic_first\"] = phonetic(patents_2018_inventor[\"name_first\"], method=\"nysiis\")\n",
    "patents_2018_inventor[\"phonetic_last\"] = phonetic(patents_2018_inventor[\"name_last\"], method=\"nysiis\")\n",
    "patents_2018_inventor[\"phonetic_middle\"] = phonetic(patents_2018_inventor[\"name_middle\"], method=\"nysiis\")\n",
    "\n",
    "grants_2015_linkage[\"phonetic_first\"] = phonetic(grants_2015_linkage[\"name_first\"], method=\"nysiis\")\n",
    "grants_2015_linkage[\"phonetic_last\"] = phonetic(grants_2015_linkage[\"name_last\"], method=\"nysiis\")\n",
    "grants_2015_linkage[\"phonetic_middle\"] = phonetic(grants_2015_linkage[\"name_middle\"], method=\"nysiis\")"
   ]
  },
  {
   "cell_type": "code",
   "execution_count": 36,
   "metadata": {
    "ExecuteTime": {
     "end_time": "2020-01-24T03:22:43.049293Z",
     "start_time": "2020-01-24T03:22:43.025263Z"
    }
   },
   "outputs": [
    {
     "data": {
      "text/html": [
       "<div>\n",
       "<style scoped>\n",
       "    .dataframe tbody tr th:only-of-type {\n",
       "        vertical-align: middle;\n",
       "    }\n",
       "\n",
       "    .dataframe tbody tr th {\n",
       "        vertical-align: top;\n",
       "    }\n",
       "\n",
       "    .dataframe thead th {\n",
       "        text-align: right;\n",
       "    }\n",
       "</style>\n",
       "<table border=\"1\" class=\"dataframe\">\n",
       "  <thead>\n",
       "    <tr style=\"text-align: right;\">\n",
       "      <th></th>\n",
       "      <th>name_first</th>\n",
       "      <th>name_middle</th>\n",
       "      <th>name_last</th>\n",
       "      <th>phonetic_first</th>\n",
       "      <th>phonetic_middle</th>\n",
       "      <th>phonetic_last</th>\n",
       "    </tr>\n",
       "  </thead>\n",
       "  <tbody>\n",
       "    <tr>\n",
       "      <th>1</th>\n",
       "      <td>peter</td>\n",
       "      <td>c</td>\n",
       "      <td>dowling</td>\n",
       "      <td>PATAR</td>\n",
       "      <td>C</td>\n",
       "      <td>DAOLANG</td>\n",
       "    </tr>\n",
       "    <tr>\n",
       "      <th>2</th>\n",
       "      <td>gary</td>\n",
       "      <td>NaN</td>\n",
       "      <td>beaupre</td>\n",
       "      <td>GARY</td>\n",
       "      <td>NaN</td>\n",
       "      <td>BAPR</td>\n",
       "    </tr>\n",
       "  </tbody>\n",
       "</table>\n",
       "</div>"
      ],
      "text/plain": [
       "  name_first name_middle name_last phonetic_first phonetic_middle  \\\n",
       "1      peter           c   dowling          PATAR               C   \n",
       "2       gary         NaN   beaupre           GARY             NaN   \n",
       "\n",
       "  phonetic_last  \n",
       "1       DAOLANG  \n",
       "2          BAPR  "
      ]
     },
     "execution_count": 36,
     "metadata": {},
     "output_type": "execute_result"
    }
   ],
   "source": [
    "grants_2015_linkage[['name_first','name_middle','name_last','phonetic_first','phonetic_middle','phonetic_last']].head(2)"
   ]
  },
  {
   "cell_type": "markdown",
   "metadata": {},
   "source": [
    "### Deterministic Matching"
   ]
  },
  {
   "cell_type": "markdown",
   "metadata": {},
   "source": [
    "Now we are ready to try the exact matching of the pre-processed fields. Let's do an exact match (merge) on the **first, middle, last name** and examine the results."
   ]
  },
  {
   "cell_type": "code",
   "execution_count": 37,
   "metadata": {
    "ExecuteTime": {
     "end_time": "2020-01-24T03:22:43.428536Z",
     "start_time": "2020-01-24T03:22:43.075148Z"
    }
   },
   "outputs": [],
   "source": [
    "# Merge on first, middle, last name\n",
    "match_name = patents_2018_inventor.merge(grants_2015_linkage,on=['name_first','name_last','name_middle'])"
   ]
  },
  {
   "cell_type": "code",
   "execution_count": 38,
   "metadata": {},
   "outputs": [
    {
     "data": {
      "text/html": [
       "<div>\n",
       "<style scoped>\n",
       "    .dataframe tbody tr th:only-of-type {\n",
       "        vertical-align: middle;\n",
       "    }\n",
       "\n",
       "    .dataframe tbody tr th {\n",
       "        vertical-align: top;\n",
       "    }\n",
       "\n",
       "    .dataframe thead th {\n",
       "        text-align: right;\n",
       "    }\n",
       "</style>\n",
       "<table border=\"1\" class=\"dataframe\">\n",
       "  <thead>\n",
       "    <tr style=\"text-align: right;\">\n",
       "      <th></th>\n",
       "      <th>patent_number</th>\n",
       "      <th>name_first</th>\n",
       "      <th>name_last</th>\n",
       "      <th>patent_firstnamed_inventor_city</th>\n",
       "      <th>patent_firstnamed_inventor_state</th>\n",
       "      <th>name_middle</th>\n",
       "      <th>phonetic_first_x</th>\n",
       "      <th>phonetic_last_x</th>\n",
       "      <th>phonetic_middle_x</th>\n",
       "      <th>PROJECT_ID</th>\n",
       "      <th>CONTACT_PI_PROJECT_LEADER</th>\n",
       "      <th>OTHER_PIS</th>\n",
       "      <th>ORGANIZATION_CITY</th>\n",
       "      <th>ORGANIZATION_STATE</th>\n",
       "      <th>ORGANIZATION_COUNTRY</th>\n",
       "      <th>phonetic_first_y</th>\n",
       "      <th>phonetic_last_y</th>\n",
       "      <th>phonetic_middle_y</th>\n",
       "    </tr>\n",
       "  </thead>\n",
       "  <tbody>\n",
       "    <tr>\n",
       "      <th>0</th>\n",
       "      <td>9873415</td>\n",
       "      <td>christopher</td>\n",
       "      <td>hill</td>\n",
       "      <td>Chicago</td>\n",
       "      <td>IL</td>\n",
       "      <td>NaN</td>\n",
       "      <td>CRASTAFAR</td>\n",
       "      <td>HAL</td>\n",
       "      <td>NaN</td>\n",
       "      <td>797578</td>\n",
       "      <td>hill christopher</td>\n",
       "      <td>NaN</td>\n",
       "      <td>HOLYOKE</td>\n",
       "      <td>MA</td>\n",
       "      <td>UNITED STATES</td>\n",
       "      <td>CRASTAFAR</td>\n",
       "      <td>HAL</td>\n",
       "      <td>NaN</td>\n",
       "    </tr>\n",
       "    <tr>\n",
       "      <th>1</th>\n",
       "      <td>10006226</td>\n",
       "      <td>christopher</td>\n",
       "      <td>hill</td>\n",
       "      <td>New Britain</td>\n",
       "      <td>CT</td>\n",
       "      <td>NaN</td>\n",
       "      <td>CRASTAFAR</td>\n",
       "      <td>HAL</td>\n",
       "      <td>NaN</td>\n",
       "      <td>797578</td>\n",
       "      <td>hill christopher</td>\n",
       "      <td>NaN</td>\n",
       "      <td>HOLYOKE</td>\n",
       "      <td>MA</td>\n",
       "      <td>UNITED STATES</td>\n",
       "      <td>CRASTAFAR</td>\n",
       "      <td>HAL</td>\n",
       "      <td>NaN</td>\n",
       "    </tr>\n",
       "    <tr>\n",
       "      <th>2</th>\n",
       "      <td>9854752</td>\n",
       "      <td>michael</td>\n",
       "      <td>desantis</td>\n",
       "      <td>Cooper City</td>\n",
       "      <td>FL</td>\n",
       "      <td>NaN</td>\n",
       "      <td>MACAL</td>\n",
       "      <td>DASANT</td>\n",
       "      <td>NaN</td>\n",
       "      <td>731789</td>\n",
       "      <td>desantis michael</td>\n",
       "      <td>NaN</td>\n",
       "      <td>ANN ARBOR</td>\n",
       "      <td>MI</td>\n",
       "      <td>UNITED STATES</td>\n",
       "      <td>MACAL</td>\n",
       "      <td>DASANT</td>\n",
       "      <td>NaN</td>\n",
       "    </tr>\n",
       "    <tr>\n",
       "      <th>3</th>\n",
       "      <td>9862941</td>\n",
       "      <td>abraham</td>\n",
       "      <td>lee</td>\n",
       "      <td>Irvine</td>\n",
       "      <td>CA</td>\n",
       "      <td>p</td>\n",
       "      <td>ABRAHAN</td>\n",
       "      <td>LY</td>\n",
       "      <td>P</td>\n",
       "      <td>795978</td>\n",
       "      <td>lee abraham p</td>\n",
       "      <td>WANG, JEFF</td>\n",
       "      <td>IRVINE</td>\n",
       "      <td>CA</td>\n",
       "      <td>UNITED STATES</td>\n",
       "      <td>ABRAHAN</td>\n",
       "      <td>LY</td>\n",
       "      <td>P</td>\n",
       "    </tr>\n",
       "    <tr>\n",
       "      <th>4</th>\n",
       "      <td>9896725</td>\n",
       "      <td>abraham</td>\n",
       "      <td>lee</td>\n",
       "      <td>Irvine</td>\n",
       "      <td>CA</td>\n",
       "      <td>p</td>\n",
       "      <td>ABRAHAN</td>\n",
       "      <td>LY</td>\n",
       "      <td>P</td>\n",
       "      <td>795978</td>\n",
       "      <td>lee abraham p</td>\n",
       "      <td>WANG, JEFF</td>\n",
       "      <td>IRVINE</td>\n",
       "      <td>CA</td>\n",
       "      <td>UNITED STATES</td>\n",
       "      <td>ABRAHAN</td>\n",
       "      <td>LY</td>\n",
       "      <td>P</td>\n",
       "    </tr>\n",
       "  </tbody>\n",
       "</table>\n",
       "</div>"
      ],
      "text/plain": [
       "  patent_number   name_first name_last patent_firstnamed_inventor_city  \\\n",
       "0       9873415  christopher      hill                         Chicago   \n",
       "1      10006226  christopher      hill                     New Britain   \n",
       "2       9854752      michael  desantis                     Cooper City   \n",
       "3       9862941      abraham       lee                          Irvine   \n",
       "4       9896725      abraham       lee                          Irvine   \n",
       "\n",
       "  patent_firstnamed_inventor_state name_middle phonetic_first_x  \\\n",
       "0                               IL         NaN        CRASTAFAR   \n",
       "1                               CT         NaN        CRASTAFAR   \n",
       "2                               FL         NaN            MACAL   \n",
       "3                               CA           p          ABRAHAN   \n",
       "4                               CA           p          ABRAHAN   \n",
       "\n",
       "  phonetic_last_x phonetic_middle_x  PROJECT_ID CONTACT_PI_PROJECT_LEADER  \\\n",
       "0             HAL               NaN      797578          hill christopher   \n",
       "1             HAL               NaN      797578          hill christopher   \n",
       "2          DASANT               NaN      731789          desantis michael   \n",
       "3              LY                 P      795978             lee abraham p   \n",
       "4              LY                 P      795978             lee abraham p   \n",
       "\n",
       "    OTHER_PIS ORGANIZATION_CITY ORGANIZATION_STATE ORGANIZATION_COUNTRY  \\\n",
       "0         NaN           HOLYOKE                 MA        UNITED STATES   \n",
       "1         NaN           HOLYOKE                 MA        UNITED STATES   \n",
       "2         NaN         ANN ARBOR                 MI        UNITED STATES   \n",
       "3  WANG, JEFF            IRVINE                 CA        UNITED STATES   \n",
       "4  WANG, JEFF            IRVINE                 CA        UNITED STATES   \n",
       "\n",
       "  phonetic_first_y phonetic_last_y phonetic_middle_y  \n",
       "0        CRASTAFAR             HAL               NaN  \n",
       "1        CRASTAFAR             HAL               NaN  \n",
       "2            MACAL          DASANT               NaN  \n",
       "3          ABRAHAN              LY                 P  \n",
       "4          ABRAHAN              LY                 P  "
      ]
     },
     "execution_count": 38,
     "metadata": {},
     "output_type": "execute_result"
    }
   ],
   "source": [
    "match_name.head()"
   ]
  },
  {
   "cell_type": "markdown",
   "metadata": {},
   "source": [
    "How many matches did we get?"
   ]
  },
  {
   "cell_type": "code",
   "execution_count": 39,
   "metadata": {},
   "outputs": [
    {
     "data": {
      "text/plain": [
       "2130"
      ]
     },
     "execution_count": 39,
     "metadata": {},
     "output_type": "execute_result"
    }
   ],
   "source": [
    "# Check by the number of unique PI names with .nunique() function\n",
    "match_name['CONTACT_PI_PROJECT_LEADER'].nunique()"
   ]
  },
  {
   "cell_type": "markdown",
   "metadata": {},
   "source": [
    "It looks like we have Christopher Hill from Chicago, IL (patent city and state) who matched Christopher Hill from Holyoke, MA - could this be the same person? (Remember there is a time lag) Would we include this as a good match in our results?\n",
    "\n",
    "What if we blocked by state?"
   ]
  },
  {
   "cell_type": "code",
   "execution_count": 40,
   "metadata": {
    "ExecuteTime": {
     "end_time": "2020-01-24T03:22:44.486058Z",
     "start_time": "2020-01-24T03:22:44.300759Z"
    }
   },
   "outputs": [],
   "source": [
    "# Rename columns in both datasets to \"state\"\n",
    "patents_2018_inventor = patents_2018_inventor.rename(columns={'patent_firstnamed_inventor_state':'state'})\n",
    "grants_2015_linkage = grants_2015_linkage.rename(columns={'ORGANIZATION_STATE':'state'})"
   ]
  },
  {
   "cell_type": "markdown",
   "metadata": {
    "ExecuteTime": {
     "end_time": "2020-01-23T01:13:34.620172Z",
     "start_time": "2020-01-23T01:13:34.611235Z"
    }
   },
   "source": [
    "Merge on **first, middle, last name, and state**."
   ]
  },
  {
   "cell_type": "code",
   "execution_count": 41,
   "metadata": {
    "ExecuteTime": {
     "end_time": "2020-01-24T03:22:44.672376Z",
     "start_time": "2020-01-24T03:22:44.489934Z"
    }
   },
   "outputs": [],
   "source": [
    "match_name_state = patents_2018_inventor.merge(grants_2015_linkage,on=['name_first','name_last','name_middle','state'])"
   ]
  },
  {
   "cell_type": "code",
   "execution_count": 42,
   "metadata": {},
   "outputs": [
    {
     "data": {
      "text/html": [
       "<div>\n",
       "<style scoped>\n",
       "    .dataframe tbody tr th:only-of-type {\n",
       "        vertical-align: middle;\n",
       "    }\n",
       "\n",
       "    .dataframe tbody tr th {\n",
       "        vertical-align: top;\n",
       "    }\n",
       "\n",
       "    .dataframe thead th {\n",
       "        text-align: right;\n",
       "    }\n",
       "</style>\n",
       "<table border=\"1\" class=\"dataframe\">\n",
       "  <thead>\n",
       "    <tr style=\"text-align: right;\">\n",
       "      <th></th>\n",
       "      <th>patent_number</th>\n",
       "      <th>name_first</th>\n",
       "      <th>name_last</th>\n",
       "      <th>patent_firstnamed_inventor_city</th>\n",
       "      <th>state</th>\n",
       "      <th>name_middle</th>\n",
       "      <th>phonetic_first_x</th>\n",
       "      <th>phonetic_last_x</th>\n",
       "      <th>phonetic_middle_x</th>\n",
       "      <th>PROJECT_ID</th>\n",
       "      <th>CONTACT_PI_PROJECT_LEADER</th>\n",
       "      <th>OTHER_PIS</th>\n",
       "      <th>ORGANIZATION_CITY</th>\n",
       "      <th>ORGANIZATION_COUNTRY</th>\n",
       "      <th>phonetic_first_y</th>\n",
       "      <th>phonetic_last_y</th>\n",
       "      <th>phonetic_middle_y</th>\n",
       "    </tr>\n",
       "  </thead>\n",
       "  <tbody>\n",
       "    <tr>\n",
       "      <th>0</th>\n",
       "      <td>9862941</td>\n",
       "      <td>abraham</td>\n",
       "      <td>lee</td>\n",
       "      <td>Irvine</td>\n",
       "      <td>CA</td>\n",
       "      <td>p</td>\n",
       "      <td>ABRAHAN</td>\n",
       "      <td>LY</td>\n",
       "      <td>P</td>\n",
       "      <td>795978</td>\n",
       "      <td>lee abraham p</td>\n",
       "      <td>WANG, JEFF</td>\n",
       "      <td>IRVINE</td>\n",
       "      <td>UNITED STATES</td>\n",
       "      <td>ABRAHAN</td>\n",
       "      <td>LY</td>\n",
       "      <td>P</td>\n",
       "    </tr>\n",
       "    <tr>\n",
       "      <th>1</th>\n",
       "      <td>9896725</td>\n",
       "      <td>abraham</td>\n",
       "      <td>lee</td>\n",
       "      <td>Irvine</td>\n",
       "      <td>CA</td>\n",
       "      <td>p</td>\n",
       "      <td>ABRAHAN</td>\n",
       "      <td>LY</td>\n",
       "      <td>P</td>\n",
       "      <td>795978</td>\n",
       "      <td>lee abraham p</td>\n",
       "      <td>WANG, JEFF</td>\n",
       "      <td>IRVINE</td>\n",
       "      <td>UNITED STATES</td>\n",
       "      <td>ABRAHAN</td>\n",
       "      <td>LY</td>\n",
       "      <td>P</td>\n",
       "    </tr>\n",
       "    <tr>\n",
       "      <th>2</th>\n",
       "      <td>10081017</td>\n",
       "      <td>abraham</td>\n",
       "      <td>lee</td>\n",
       "      <td>Irvine</td>\n",
       "      <td>CA</td>\n",
       "      <td>p</td>\n",
       "      <td>ABRAHAN</td>\n",
       "      <td>LY</td>\n",
       "      <td>P</td>\n",
       "      <td>795978</td>\n",
       "      <td>lee abraham p</td>\n",
       "      <td>WANG, JEFF</td>\n",
       "      <td>IRVINE</td>\n",
       "      <td>UNITED STATES</td>\n",
       "      <td>ABRAHAN</td>\n",
       "      <td>LY</td>\n",
       "      <td>P</td>\n",
       "    </tr>\n",
       "    <tr>\n",
       "      <th>3</th>\n",
       "      <td>9856536</td>\n",
       "      <td>nima</td>\n",
       "      <td>sharifi</td>\n",
       "      <td>Shaker Heights</td>\n",
       "      <td>OH</td>\n",
       "      <td>NaN</td>\n",
       "      <td>NAN</td>\n",
       "      <td>SARAF</td>\n",
       "      <td>NaN</td>\n",
       "      <td>732042</td>\n",
       "      <td>sharifi nima</td>\n",
       "      <td>NaN</td>\n",
       "      <td>CLEVELAND</td>\n",
       "      <td>UNITED STATES</td>\n",
       "      <td>NAN</td>\n",
       "      <td>SARAF</td>\n",
       "      <td>NaN</td>\n",
       "    </tr>\n",
       "    <tr>\n",
       "      <th>4</th>\n",
       "      <td>9856536</td>\n",
       "      <td>nima</td>\n",
       "      <td>sharifi</td>\n",
       "      <td>Shaker Heights</td>\n",
       "      <td>OH</td>\n",
       "      <td>NaN</td>\n",
       "      <td>NAN</td>\n",
       "      <td>SARAF</td>\n",
       "      <td>NaN</td>\n",
       "      <td>739416</td>\n",
       "      <td>sharifi nima</td>\n",
       "      <td>NaN</td>\n",
       "      <td>CLEVELAND</td>\n",
       "      <td>UNITED STATES</td>\n",
       "      <td>NAN</td>\n",
       "      <td>SARAF</td>\n",
       "      <td>NaN</td>\n",
       "    </tr>\n",
       "  </tbody>\n",
       "</table>\n",
       "</div>"
      ],
      "text/plain": [
       "  patent_number name_first name_last patent_firstnamed_inventor_city state  \\\n",
       "0       9862941    abraham       lee                          Irvine    CA   \n",
       "1       9896725    abraham       lee                          Irvine    CA   \n",
       "2      10081017    abraham       lee                          Irvine    CA   \n",
       "3       9856536       nima   sharifi                  Shaker Heights    OH   \n",
       "4       9856536       nima   sharifi                  Shaker Heights    OH   \n",
       "\n",
       "  name_middle phonetic_first_x phonetic_last_x phonetic_middle_x  PROJECT_ID  \\\n",
       "0           p          ABRAHAN              LY                 P      795978   \n",
       "1           p          ABRAHAN              LY                 P      795978   \n",
       "2           p          ABRAHAN              LY                 P      795978   \n",
       "3         NaN              NAN           SARAF               NaN      732042   \n",
       "4         NaN              NAN           SARAF               NaN      739416   \n",
       "\n",
       "  CONTACT_PI_PROJECT_LEADER   OTHER_PIS ORGANIZATION_CITY  \\\n",
       "0             lee abraham p  WANG, JEFF            IRVINE   \n",
       "1             lee abraham p  WANG, JEFF            IRVINE   \n",
       "2             lee abraham p  WANG, JEFF            IRVINE   \n",
       "3              sharifi nima         NaN         CLEVELAND   \n",
       "4              sharifi nima         NaN         CLEVELAND   \n",
       "\n",
       "  ORGANIZATION_COUNTRY phonetic_first_y phonetic_last_y phonetic_middle_y  \n",
       "0        UNITED STATES          ABRAHAN              LY                 P  \n",
       "1        UNITED STATES          ABRAHAN              LY                 P  \n",
       "2        UNITED STATES          ABRAHAN              LY                 P  \n",
       "3        UNITED STATES              NAN           SARAF               NaN  \n",
       "4        UNITED STATES              NAN           SARAF               NaN  "
      ]
     },
     "execution_count": 42,
     "metadata": {},
     "output_type": "execute_result"
    }
   ],
   "source": [
    "match_name_state.head()"
   ]
  },
  {
   "cell_type": "markdown",
   "metadata": {},
   "source": [
    "How many matches did we get now?"
   ]
  },
  {
   "cell_type": "code",
   "execution_count": 43,
   "metadata": {
    "ExecuteTime": {
     "end_time": "2020-01-24T03:22:44.706890Z",
     "start_time": "2020-01-24T03:22:44.693881Z"
    }
   },
   "outputs": [
    {
     "data": {
      "text/plain": [
       "1438"
      ]
     },
     "execution_count": 43,
     "metadata": {},
     "output_type": "execute_result"
    }
   ],
   "source": [
    "match_name_state['CONTACT_PI_PROJECT_LEADER'].nunique()"
   ]
  },
  {
   "cell_type": "markdown",
   "metadata": {},
   "source": [
    "Now we get Abraham Lee from Irvine, CA in both patent and grant data, and Nima Sharifi from Shaker Heights, OH (patent data) and Cleveland, OH (grant data). Should we try also blocking by city, and see how many results we will get?"
   ]
  },
  {
   "cell_type": "markdown",
   "metadata": {},
   "source": [
    "Let's try blocking by **first, middle, last name, state, and city**."
   ]
  },
  {
   "cell_type": "code",
   "execution_count": 44,
   "metadata": {},
   "outputs": [
    {
     "data": {
      "text/plain": [
       "134809    Portland\n",
       "Name: patent_firstnamed_inventor_city, dtype: object"
      ]
     },
     "execution_count": 44,
     "metadata": {},
     "output_type": "execute_result"
    }
   ],
   "source": [
    "# Before we block by city, let's check the formatting in both datasets\n",
    "patents_2018_inventor['patent_firstnamed_inventor_city'].tail(1)"
   ]
  },
  {
   "cell_type": "code",
   "execution_count": 45,
   "metadata": {},
   "outputs": [
    {
     "data": {
      "text/plain": [
       "92312    CONWAY\n",
       "Name: ORGANIZATION_CITY, dtype: object"
      ]
     },
     "execution_count": 45,
     "metadata": {},
     "output_type": "execute_result"
    }
   ],
   "source": [
    "grants_2015_linkage['ORGANIZATION_CITY'].tail(1)"
   ]
  },
  {
   "cell_type": "code",
   "execution_count": 46,
   "metadata": {
    "ExecuteTime": {
     "end_time": "2020-01-24T03:22:44.936995Z",
     "start_time": "2020-01-24T03:22:44.924899Z"
    }
   },
   "outputs": [],
   "source": [
    "# We can uppercase the city name\n",
    "patents_2018_inventor['patent_firstnamed_inventor_city'] = patents_2018_inventor['patent_firstnamed_inventor_city'].str.upper()"
   ]
  },
  {
   "cell_type": "code",
   "execution_count": 47,
   "metadata": {
    "ExecuteTime": {
     "end_time": "2020-01-24T03:22:45.091606Z",
     "start_time": "2020-01-24T03:22:44.963877Z"
    }
   },
   "outputs": [],
   "source": [
    "# Rename the column names so they match in both datasets\n",
    "patents_2018_inventor = patents_2018_inventor.rename(columns={'patent_firstnamed_inventor_city':'city'})\n",
    "grants_2015_linkage = grants_2015_linkage.rename(columns={'ORGANIZATION_CITY':'city'})"
   ]
  },
  {
   "cell_type": "code",
   "execution_count": 48,
   "metadata": {
    "ExecuteTime": {
     "end_time": "2020-01-24T03:22:45.269416Z",
     "start_time": "2020-01-24T03:22:45.095800Z"
    }
   },
   "outputs": [],
   "source": [
    "match_name_city_state = patents_2018_inventor.merge(grants_2015_linkage, on=['name_first','name_last','name_middle','state','city'])"
   ]
  },
  {
   "cell_type": "markdown",
   "metadata": {},
   "source": [
    "How many matches do we get now?"
   ]
  },
  {
   "cell_type": "code",
   "execution_count": 49,
   "metadata": {
    "ExecuteTime": {
     "end_time": "2020-01-24T03:22:45.304232Z",
     "start_time": "2020-01-24T03:22:45.289798Z"
    }
   },
   "outputs": [
    {
     "data": {
      "text/plain": [
       "705"
      ]
     },
     "execution_count": 49,
     "metadata": {},
     "output_type": "execute_result"
    }
   ],
   "source": [
    "match_name_city_state['CONTACT_PI_PROJECT_LEADER'].nunique()"
   ]
  },
  {
   "cell_type": "markdown",
   "metadata": {},
   "source": [
    "You can try other ways of matching, for example, including **phonetic first, middle, last name**."
   ]
  },
  {
   "cell_type": "code",
   "execution_count": 50,
   "metadata": {
    "ExecuteTime": {
     "end_time": "2020-01-24T03:22:43.729504Z",
     "start_time": "2020-01-24T03:22:43.504433Z"
    }
   },
   "outputs": [],
   "source": [
    "# Merge on phonetic first, middle, last name\n",
    "match_name_phonetic = patents_2018_inventor.merge(grants_2015_linkage,on=['phonetic_first','phonetic_last','phonetic_middle'])"
   ]
  },
  {
   "cell_type": "code",
   "execution_count": 51,
   "metadata": {
    "ExecuteTime": {
     "end_time": "2020-01-24T03:22:43.774065Z",
     "start_time": "2020-01-24T03:22:43.761978Z"
    }
   },
   "outputs": [
    {
     "data": {
      "text/plain": [
       "3952"
      ]
     },
     "execution_count": 51,
     "metadata": {},
     "output_type": "execute_result"
    }
   ],
   "source": [
    "# Let's check the count of unique PI names\n",
    "match_name_phonetic['CONTACT_PI_PROJECT_LEADER'].nunique()"
   ]
  },
  {
   "cell_type": "markdown",
   "metadata": {},
   "source": [
    "You can broaden your links and only merge on **first and last name**."
   ]
  },
  {
   "cell_type": "code",
   "execution_count": 52,
   "metadata": {
    "ExecuteTime": {
     "end_time": "2020-01-24T03:22:43.970945Z",
     "start_time": "2020-01-24T03:22:43.779061Z"
    }
   },
   "outputs": [],
   "source": [
    "match_name_first_last = patents_2018_inventor.merge(grants_2015_linkage,on=['name_first','name_last'])"
   ]
  },
  {
   "cell_type": "code",
   "execution_count": 53,
   "metadata": {
    "ExecuteTime": {
     "end_time": "2020-01-24T03:22:44.014580Z",
     "start_time": "2020-01-24T03:22:43.998813Z"
    }
   },
   "outputs": [
    {
     "data": {
      "text/plain": [
       "5490"
      ]
     },
     "execution_count": 53,
     "metadata": {},
     "output_type": "execute_result"
    }
   ],
   "source": [
    "# Check the counts\n",
    "match_name_first_last['CONTACT_PI_PROJECT_LEADER'].nunique()"
   ]
  },
  {
   "cell_type": "markdown",
   "metadata": {},
   "source": [
    "You can also try merging on **phonetic first and last name**."
   ]
  },
  {
   "cell_type": "code",
   "execution_count": 54,
   "metadata": {
    "ExecuteTime": {
     "end_time": "2020-01-24T03:22:44.247454Z",
     "start_time": "2020-01-24T03:22:44.021197Z"
    }
   },
   "outputs": [],
   "source": [
    "match_name_phonetic = patents_2018_inventor.merge(grants_2015_linkage,on=['phonetic_first','phonetic_last'])"
   ]
  },
  {
   "cell_type": "code",
   "execution_count": 55,
   "metadata": {
    "ExecuteTime": {
     "end_time": "2020-01-24T03:22:44.294742Z",
     "start_time": "2020-01-24T03:22:44.278722Z"
    }
   },
   "outputs": [
    {
     "data": {
      "text/plain": [
       "11316"
      ]
     },
     "execution_count": 55,
     "metadata": {},
     "output_type": "execute_result"
    }
   ],
   "source": [
    "# Check the counts\n",
    "match_name_phonetic['CONTACT_PI_PROJECT_LEADER'].nunique()"
   ]
  },
  {
   "cell_type": "markdown",
   "metadata": {},
   "source": [
    "As you have seen, there are many ways to perform record linkage, and we just showed some examples. How would you go about doing the record linkage for patents in your project? "
   ]
  },
  {
   "cell_type": "markdown",
   "metadata": {},
   "source": [
    "# Checkpoint (Assignment 2 (part two), due February 22nd)\n",
    "You can submit either Assignment 2 (part one) Federal Reporter notebook or Assignment 2 (part two) PatentsView notebook - choose one.\n",
    "\n",
    "### 1. How many patents are there in your field of interest? Who are the five most frequent inventors and what are the five biggest institutions?\n",
    "\n",
    "### 2. Please describe how you did the record linkage (years of data that you used for matching, preprocessing, etc.). How would you describe the quality of the match and what are the caveats?"
   ]
  },
  {
   "cell_type": "code",
   "execution_count": null,
   "metadata": {},
   "outputs": [],
   "source": []
  },
  {
   "cell_type": "markdown",
   "metadata": {},
   "source": [
    "The checkpoints are there to help you move forward with your final projects - do the type of record linkage in this checkpoint that makes sense for your project. E.g. you don't have to do individual-level links if organization-level links make more sense for your project. Or, as another example, you  can  take into account the time lag, choose relevant grant/patent years, and subset by patent abstract/title, if it makes more sense for your project, or subset by organization name (remember that there can be multiple name variations for the same organization). There are multiple record linkage methods; whichever method you choose, please describe why you chose a certain way and whether your results have any caveats."
   ]
  },
  {
   "cell_type": "code",
   "execution_count": null,
   "metadata": {},
   "outputs": [],
   "source": []
  },
  {
   "cell_type": "code",
   "execution_count": null,
   "metadata": {},
   "outputs": [],
   "source": []
  }
 ],
 "metadata": {
  "kernelspec": {
   "display_name": "Python 3",
   "language": "python",
   "name": "python3"
  },
  "language_info": {
   "codemirror_mode": {
    "name": "ipython",
    "version": 3
   },
   "file_extension": ".py",
   "mimetype": "text/x-python",
   "name": "python",
   "nbconvert_exporter": "python",
   "pygments_lexer": "ipython3",
   "version": "3.8.5"
  }
 },
 "nbformat": 4,
 "nbformat_minor": 4
}
