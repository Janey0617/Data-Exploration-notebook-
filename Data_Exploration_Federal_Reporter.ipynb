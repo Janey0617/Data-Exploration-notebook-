{
 "cells": [
  {
   "cell_type": "markdown",
   "metadata": {},
   "source": [
    "# Data Exploration: Federal RePORTER"
   ]
  },
  {
   "cell_type": "markdown",
   "metadata": {},
   "source": [
    "Written by: Daniela Hochfellner"
   ]
  },
  {
   "cell_type": "markdown",
   "metadata": {},
   "source": [
    "## Import necessary libraries"
   ]
  },
  {
   "cell_type": "code",
   "execution_count": 1,
   "metadata": {},
   "outputs": [],
   "source": [
    "import pandas as pd"
   ]
  },
  {
   "cell_type": "markdown",
   "metadata": {},
   "source": [
    "## Load data"
   ]
  },
  {
   "cell_type": "code",
   "execution_count": 7,
   "metadata": {},
   "outputs": [],
   "source": [
    "# Specify the path for the folders where the data is present\n",
    "# For Windows users:\n",
    "path = \"C:/Users/PC Name/\"\n",
    "# For Mac users - skip the path variable"
   ]
  },
  {
   "cell_type": "code",
   "execution_count": 8,
   "metadata": {},
   "outputs": [
    {
     "name": "stderr",
     "output_type": "stream",
     "text": [
      "C:\\Users\\Ekaterina\\anaconda3\\lib\\site-packages\\IPython\\core\\interactiveshell.py:3146: DtypeWarning: Columns (12,20) have mixed types.Specify dtype option on import or set low_memory=False.\n",
      "  has_raised = await self.run_ast_nodes(code_ast.body, cell_name,\n"
     ]
    }
   ],
   "source": [
    "# Read-in a CSV file\n",
    "# Windows users\n",
    "grants_2010 = pd.read_csv(path + 'Grants_Projects/Grants_Projects/FedRePORTER_PRJ_C_FY2010.csv')\n",
    "# Mac users - uncomment this line and run the code\n",
    "# grants_2010 = pd.read_csv('Grants_Projects/FedRePORTER_PRJ_C_FY2010.csv')"
   ]
  },
  {
   "cell_type": "markdown",
   "metadata": {},
   "source": [
    "## Data glimpse"
   ]
  },
  {
   "cell_type": "code",
   "execution_count": 9,
   "metadata": {},
   "outputs": [
    {
     "data": {
      "text/plain": [
       "(111400, 24)"
      ]
     },
     "execution_count": 9,
     "metadata": {},
     "output_type": "execute_result"
    }
   ],
   "source": [
    "# We can see how many (rows, columns) there are in the dataframe by using .shape\n",
    "grants_2010.shape"
   ]
  },
  {
   "cell_type": "code",
   "execution_count": 10,
   "metadata": {},
   "outputs": [
    {
     "data": {
      "text/html": [
       "<div>\n",
       "<style scoped>\n",
       "    .dataframe tbody tr th:only-of-type {\n",
       "        vertical-align: middle;\n",
       "    }\n",
       "\n",
       "    .dataframe tbody tr th {\n",
       "        vertical-align: top;\n",
       "    }\n",
       "\n",
       "    .dataframe thead th {\n",
       "        text-align: right;\n",
       "    }\n",
       "</style>\n",
       "<table border=\"1\" class=\"dataframe\">\n",
       "  <thead>\n",
       "    <tr style=\"text-align: right;\">\n",
       "      <th></th>\n",
       "      <th>PROJECT_ID</th>\n",
       "      <th>PROJECT_TERMS</th>\n",
       "      <th>PROJECT_TITLE</th>\n",
       "      <th>DEPARTMENT</th>\n",
       "      <th>AGENCY</th>\n",
       "      <th>IC_CENTER</th>\n",
       "      <th>PROJECT_NUMBER</th>\n",
       "      <th>PROJECT_START_DATE</th>\n",
       "      <th>PROJECT_END_DATE</th>\n",
       "      <th>CONTACT_PI_PROJECT_LEADER</th>\n",
       "      <th>...</th>\n",
       "      <th>ORGANIZATION_CITY</th>\n",
       "      <th>ORGANIZATION_STATE</th>\n",
       "      <th>ORGANIZATION_ZIP</th>\n",
       "      <th>ORGANIZATION_COUNTRY</th>\n",
       "      <th>BUDGET_START_DATE</th>\n",
       "      <th>BUDGET_END_DATE</th>\n",
       "      <th>CFDA_CODE</th>\n",
       "      <th>FY</th>\n",
       "      <th>FY_TOTAL_COST</th>\n",
       "      <th>FY_TOTAL_COST_SUB_PROJECTS</th>\n",
       "    </tr>\n",
       "  </thead>\n",
       "  <tbody>\n",
       "    <tr>\n",
       "      <th>0</th>\n",
       "      <td>121219</td>\n",
       "      <td>Alloys; Arizona; base; Research; Research Per...</td>\n",
       "      <td>THIS IS A PROPOSAL FOR GROUND-BASED RESEARCH O...</td>\n",
       "      <td>NASA</td>\n",
       "      <td>NASA</td>\n",
       "      <td>NaN</td>\n",
       "      <td>NNX10AV40G</td>\n",
       "      <td>12/1/2010</td>\n",
       "      <td>11/30/2013</td>\n",
       "      <td>POIRER, DAVID</td>\n",
       "      <td>...</td>\n",
       "      <td>TUCSON</td>\n",
       "      <td>AZ</td>\n",
       "      <td>85719-4824</td>\n",
       "      <td>UNITED STATES</td>\n",
       "      <td>NaN</td>\n",
       "      <td>NaN</td>\n",
       "      <td>43.AAA</td>\n",
       "      <td>2010</td>\n",
       "      <td>449452.00</td>\n",
       "      <td>nan</td>\n",
       "    </tr>\n",
       "    <tr>\n",
       "      <th>1</th>\n",
       "      <td>121220</td>\n",
       "      <td>Funding; Industry; operation; Participant; Re...</td>\n",
       "      <td>CONTINUED OPERATION OF THE AEROACOUSTICS RESEA...</td>\n",
       "      <td>NASA</td>\n",
       "      <td>NASA</td>\n",
       "      <td>NaN</td>\n",
       "      <td>NNC10ZA02A</td>\n",
       "      <td>9/30/2010</td>\n",
       "      <td>9/29/2011</td>\n",
       "      <td>HEYWARD, ANN O</td>\n",
       "      <td>...</td>\n",
       "      <td>BROOK PARK</td>\n",
       "      <td>OH</td>\n",
       "      <td>44142-1012</td>\n",
       "      <td>UNITED STATES</td>\n",
       "      <td>NaN</td>\n",
       "      <td>NaN</td>\n",
       "      <td>00.000</td>\n",
       "      <td>2010</td>\n",
       "      <td>112500.00</td>\n",
       "      <td>nan</td>\n",
       "    </tr>\n",
       "  </tbody>\n",
       "</table>\n",
       "<p>2 rows × 24 columns</p>\n",
       "</div>"
      ],
      "text/plain": [
       "   PROJECT_ID                                      PROJECT_TERMS  \\\n",
       "0      121219   Alloys; Arizona; base; Research; Research Per...   \n",
       "1      121220   Funding; Industry; operation; Participant; Re...   \n",
       "\n",
       "                                       PROJECT_TITLE  DEPARTMENT  AGENCY  \\\n",
       "0  THIS IS A PROPOSAL FOR GROUND-BASED RESEARCH O...        NASA    NASA   \n",
       "1  CONTINUED OPERATION OF THE AEROACOUSTICS RESEA...        NASA    NASA   \n",
       "\n",
       "   IC_CENTER  PROJECT_NUMBER  PROJECT_START_DATE  PROJECT_END_DATE  \\\n",
       "0        NaN      NNX10AV40G           12/1/2010        11/30/2013   \n",
       "1        NaN      NNC10ZA02A           9/30/2010         9/29/2011   \n",
       "\n",
       "   CONTACT_PI_PROJECT_LEADER  ...  ORGANIZATION_CITY   ORGANIZATION_STATE  \\\n",
       "0              POIRER, DAVID  ...             TUCSON                   AZ   \n",
       "1             HEYWARD, ANN O  ...         BROOK PARK                   OH   \n",
       "\n",
       "   ORGANIZATION_ZIP  ORGANIZATION_COUNTRY  BUDGET_START_DATE  BUDGET_END_DATE  \\\n",
       "0        85719-4824         UNITED STATES                NaN              NaN   \n",
       "1        44142-1012         UNITED STATES                NaN              NaN   \n",
       "\n",
       "   CFDA_CODE    FY  FY_TOTAL_COST  FY_TOTAL_COST_SUB_PROJECTS  \n",
       "0     43.AAA  2010      449452.00                         nan  \n",
       "1     00.000  2010      112500.00                         nan  \n",
       "\n",
       "[2 rows x 24 columns]"
      ]
     },
     "execution_count": 10,
     "metadata": {},
     "output_type": "execute_result"
    }
   ],
   "source": [
    "# See first 2 rows with head() function\n",
    "grants_2010.head(2)"
   ]
  },
  {
   "cell_type": "code",
   "execution_count": 11,
   "metadata": {},
   "outputs": [
    {
     "data": {
      "text/html": [
       "<div>\n",
       "<style scoped>\n",
       "    .dataframe tbody tr th:only-of-type {\n",
       "        vertical-align: middle;\n",
       "    }\n",
       "\n",
       "    .dataframe tbody tr th {\n",
       "        vertical-align: top;\n",
       "    }\n",
       "\n",
       "    .dataframe thead th {\n",
       "        text-align: right;\n",
       "    }\n",
       "</style>\n",
       "<table border=\"1\" class=\"dataframe\">\n",
       "  <thead>\n",
       "    <tr style=\"text-align: right;\">\n",
       "      <th></th>\n",
       "      <th>PROJECT_ID</th>\n",
       "      <th>PROJECT_TERMS</th>\n",
       "      <th>PROJECT_TITLE</th>\n",
       "      <th>DEPARTMENT</th>\n",
       "      <th>AGENCY</th>\n",
       "      <th>IC_CENTER</th>\n",
       "      <th>PROJECT_NUMBER</th>\n",
       "      <th>PROJECT_START_DATE</th>\n",
       "      <th>PROJECT_END_DATE</th>\n",
       "      <th>CONTACT_PI_PROJECT_LEADER</th>\n",
       "      <th>...</th>\n",
       "      <th>ORGANIZATION_CITY</th>\n",
       "      <th>ORGANIZATION_STATE</th>\n",
       "      <th>ORGANIZATION_ZIP</th>\n",
       "      <th>ORGANIZATION_COUNTRY</th>\n",
       "      <th>BUDGET_START_DATE</th>\n",
       "      <th>BUDGET_END_DATE</th>\n",
       "      <th>CFDA_CODE</th>\n",
       "      <th>FY</th>\n",
       "      <th>FY_TOTAL_COST</th>\n",
       "      <th>FY_TOTAL_COST_SUB_PROJECTS</th>\n",
       "    </tr>\n",
       "  </thead>\n",
       "  <tbody>\n",
       "    <tr>\n",
       "      <th>111398</th>\n",
       "      <td>915380</td>\n",
       "      <td>Attention; Blast Cell; executive function; mi...</td>\n",
       "      <td>FUNCTIONAL NEUROIMAGING OF ATTENTION AND EXECU...</td>\n",
       "      <td>DOD</td>\n",
       "      <td>DVBIC</td>\n",
       "      <td>NaN</td>\n",
       "      <td>DV85</td>\n",
       "      <td>10/25/2009</td>\n",
       "      <td>1/1/2013</td>\n",
       "      <td>CHAO, WENDY</td>\n",
       "      <td>...</td>\n",
       "      <td>SILVER SPRING</td>\n",
       "      <td>MD</td>\n",
       "      <td>20910</td>\n",
       "      <td>UNITED STATES</td>\n",
       "      <td>NaN</td>\n",
       "      <td>NaN</td>\n",
       "      <td>NaN</td>\n",
       "      <td>2010</td>\n",
       "      <td>nan</td>\n",
       "      <td>nan</td>\n",
       "    </tr>\n",
       "    <tr>\n",
       "      <th>111399</th>\n",
       "      <td>915386</td>\n",
       "      <td>Automobile Driving; Behavioral Symptoms; Cogn...</td>\n",
       "      <td>USING A SIMULATOR TO ENHANCE COGNITIVE RECOVER...</td>\n",
       "      <td>DOD</td>\n",
       "      <td>DVBIC</td>\n",
       "      <td>NaN</td>\n",
       "      <td>DV86</td>\n",
       "      <td>10/1/2007</td>\n",
       "      <td>3/31/2011</td>\n",
       "      <td>AMICK, MELISSA</td>\n",
       "      <td>...</td>\n",
       "      <td>SILVER SPRING</td>\n",
       "      <td>MD</td>\n",
       "      <td>20910</td>\n",
       "      <td>UNITED STATES</td>\n",
       "      <td>NaN</td>\n",
       "      <td>NaN</td>\n",
       "      <td>NaN</td>\n",
       "      <td>2010</td>\n",
       "      <td>nan</td>\n",
       "      <td>nan</td>\n",
       "    </tr>\n",
       "  </tbody>\n",
       "</table>\n",
       "<p>2 rows × 24 columns</p>\n",
       "</div>"
      ],
      "text/plain": [
       "        PROJECT_ID                                      PROJECT_TERMS  \\\n",
       "111398      915380   Attention; Blast Cell; executive function; mi...   \n",
       "111399      915386   Automobile Driving; Behavioral Symptoms; Cogn...   \n",
       "\n",
       "                                            PROJECT_TITLE  DEPARTMENT  AGENCY  \\\n",
       "111398  FUNCTIONAL NEUROIMAGING OF ATTENTION AND EXECU...         DOD   DVBIC   \n",
       "111399  USING A SIMULATOR TO ENHANCE COGNITIVE RECOVER...         DOD   DVBIC   \n",
       "\n",
       "        IC_CENTER  PROJECT_NUMBER  PROJECT_START_DATE  PROJECT_END_DATE  \\\n",
       "111398        NaN            DV85          10/25/2009          1/1/2013   \n",
       "111399        NaN            DV86           10/1/2007         3/31/2011   \n",
       "\n",
       "        CONTACT_PI_PROJECT_LEADER  ...  ORGANIZATION_CITY  \\\n",
       "111398                CHAO, WENDY  ...      SILVER SPRING   \n",
       "111399             AMICK, MELISSA  ...      SILVER SPRING   \n",
       "\n",
       "         ORGANIZATION_STATE  ORGANIZATION_ZIP  ORGANIZATION_COUNTRY  \\\n",
       "111398                   MD             20910         UNITED STATES   \n",
       "111399                   MD             20910         UNITED STATES   \n",
       "\n",
       "        BUDGET_START_DATE  BUDGET_END_DATE  CFDA_CODE    FY  FY_TOTAL_COST  \\\n",
       "111398                NaN              NaN        NaN  2010            nan   \n",
       "111399                NaN              NaN        NaN  2010            nan   \n",
       "\n",
       "        FY_TOTAL_COST_SUB_PROJECTS  \n",
       "111398                         nan  \n",
       "111399                         nan  \n",
       "\n",
       "[2 rows x 24 columns]"
      ]
     },
     "execution_count": 11,
     "metadata": {},
     "output_type": "execute_result"
    }
   ],
   "source": [
    "# See last 2 rows with tail() function\n",
    "grants_2010.tail(2)"
   ]
  },
  {
   "cell_type": "code",
   "execution_count": 12,
   "metadata": {},
   "outputs": [
    {
     "data": {
      "text/html": [
       "<div>\n",
       "<style scoped>\n",
       "    .dataframe tbody tr th:only-of-type {\n",
       "        vertical-align: middle;\n",
       "    }\n",
       "\n",
       "    .dataframe tbody tr th {\n",
       "        vertical-align: top;\n",
       "    }\n",
       "\n",
       "    .dataframe thead th {\n",
       "        text-align: right;\n",
       "    }\n",
       "</style>\n",
       "<table border=\"1\" class=\"dataframe\">\n",
       "  <thead>\n",
       "    <tr style=\"text-align: right;\">\n",
       "      <th></th>\n",
       "      <th>PROJECT_ID</th>\n",
       "      <th>CONGRESSIONAL_DISTRICT</th>\n",
       "      <th>FY</th>\n",
       "      <th>FY_TOTAL_COST</th>\n",
       "      <th>FY_TOTAL_COST_SUB_PROJECTS</th>\n",
       "    </tr>\n",
       "  </thead>\n",
       "  <tbody>\n",
       "    <tr>\n",
       "      <th>count</th>\n",
       "      <td>111400.00</td>\n",
       "      <td>104072.00</td>\n",
       "      <td>111400.00</td>\n",
       "      <td>90694.00</td>\n",
       "      <td>18474.00</td>\n",
       "    </tr>\n",
       "    <tr>\n",
       "      <th>mean</th>\n",
       "      <td>354577.76</td>\n",
       "      <td>11.36</td>\n",
       "      <td>2010.00</td>\n",
       "      <td>509165.57</td>\n",
       "      <td>230180.16</td>\n",
       "    </tr>\n",
       "    <tr>\n",
       "      <th>std</th>\n",
       "      <td>138390.39</td>\n",
       "      <td>14.71</td>\n",
       "      <td>0.00</td>\n",
       "      <td>1792130.10</td>\n",
       "      <td>439546.80</td>\n",
       "    </tr>\n",
       "    <tr>\n",
       "      <th>min</th>\n",
       "      <td>121219.00</td>\n",
       "      <td>0.00</td>\n",
       "      <td>2010.00</td>\n",
       "      <td>1.00</td>\n",
       "      <td>1.00</td>\n",
       "    </tr>\n",
       "    <tr>\n",
       "      <th>25%</th>\n",
       "      <td>295266.75</td>\n",
       "      <td>3.00</td>\n",
       "      <td>2010.00</td>\n",
       "      <td>147784.25</td>\n",
       "      <td>33424.00</td>\n",
       "    </tr>\n",
       "    <tr>\n",
       "      <th>50%</th>\n",
       "      <td>337986.50</td>\n",
       "      <td>7.00</td>\n",
       "      <td>2010.00</td>\n",
       "      <td>300000.00</td>\n",
       "      <td>149029.00</td>\n",
       "    </tr>\n",
       "    <tr>\n",
       "      <th>75%</th>\n",
       "      <td>416683.75</td>\n",
       "      <td>13.00</td>\n",
       "      <td>2010.00</td>\n",
       "      <td>444086.50</td>\n",
       "      <td>294011.25</td>\n",
       "    </tr>\n",
       "    <tr>\n",
       "      <th>max</th>\n",
       "      <td>915386.00</td>\n",
       "      <td>99.00</td>\n",
       "      <td>2010.00</td>\n",
       "      <td>242345898.00</td>\n",
       "      <td>18277547.00</td>\n",
       "    </tr>\n",
       "  </tbody>\n",
       "</table>\n",
       "</div>"
      ],
      "text/plain": [
       "       PROJECT_ID   CONGRESSIONAL_DISTRICT        FY   FY_TOTAL_COST  \\\n",
       "count   111400.00                104072.00 111400.00        90694.00   \n",
       "mean    354577.76                    11.36   2010.00       509165.57   \n",
       "std     138390.39                    14.71      0.00      1792130.10   \n",
       "min     121219.00                     0.00   2010.00            1.00   \n",
       "25%     295266.75                     3.00   2010.00       147784.25   \n",
       "50%     337986.50                     7.00   2010.00       300000.00   \n",
       "75%     416683.75                    13.00   2010.00       444086.50   \n",
       "max     915386.00                    99.00   2010.00    242345898.00   \n",
       "\n",
       "        FY_TOTAL_COST_SUB_PROJECTS  \n",
       "count                     18474.00  \n",
       "mean                     230180.16  \n",
       "std                      439546.80  \n",
       "min                           1.00  \n",
       "25%                       33424.00  \n",
       "50%                      149029.00  \n",
       "75%                      294011.25  \n",
       "max                    18277547.00  "
      ]
     },
     "execution_count": 12,
     "metadata": {},
     "output_type": "execute_result"
    }
   ],
   "source": [
    "# see the descriptive statistics of the variables\n",
    "grants_2010.describe()"
   ]
  },
  {
   "cell_type": "code",
   "execution_count": 13,
   "metadata": {},
   "outputs": [],
   "source": [
    "# Convert scientific notation to a full float\n",
    "pd.set_option('display.float_format', '{:.2f}'.format)"
   ]
  },
  {
   "cell_type": "code",
   "execution_count": 14,
   "metadata": {},
   "outputs": [
    {
     "data": {
      "text/html": [
       "<div>\n",
       "<style scoped>\n",
       "    .dataframe tbody tr th:only-of-type {\n",
       "        vertical-align: middle;\n",
       "    }\n",
       "\n",
       "    .dataframe tbody tr th {\n",
       "        vertical-align: top;\n",
       "    }\n",
       "\n",
       "    .dataframe thead th {\n",
       "        text-align: right;\n",
       "    }\n",
       "</style>\n",
       "<table border=\"1\" class=\"dataframe\">\n",
       "  <thead>\n",
       "    <tr style=\"text-align: right;\">\n",
       "      <th></th>\n",
       "      <th>PROJECT_ID</th>\n",
       "      <th>CONGRESSIONAL_DISTRICT</th>\n",
       "      <th>FY</th>\n",
       "      <th>FY_TOTAL_COST</th>\n",
       "      <th>FY_TOTAL_COST_SUB_PROJECTS</th>\n",
       "    </tr>\n",
       "  </thead>\n",
       "  <tbody>\n",
       "    <tr>\n",
       "      <th>count</th>\n",
       "      <td>111400.00</td>\n",
       "      <td>104072.00</td>\n",
       "      <td>111400.00</td>\n",
       "      <td>90694.00</td>\n",
       "      <td>18474.00</td>\n",
       "    </tr>\n",
       "    <tr>\n",
       "      <th>mean</th>\n",
       "      <td>354577.76</td>\n",
       "      <td>11.36</td>\n",
       "      <td>2010.00</td>\n",
       "      <td>509165.57</td>\n",
       "      <td>230180.16</td>\n",
       "    </tr>\n",
       "    <tr>\n",
       "      <th>std</th>\n",
       "      <td>138390.39</td>\n",
       "      <td>14.71</td>\n",
       "      <td>0.00</td>\n",
       "      <td>1792130.10</td>\n",
       "      <td>439546.80</td>\n",
       "    </tr>\n",
       "    <tr>\n",
       "      <th>min</th>\n",
       "      <td>121219.00</td>\n",
       "      <td>0.00</td>\n",
       "      <td>2010.00</td>\n",
       "      <td>1.00</td>\n",
       "      <td>1.00</td>\n",
       "    </tr>\n",
       "    <tr>\n",
       "      <th>25%</th>\n",
       "      <td>295266.75</td>\n",
       "      <td>3.00</td>\n",
       "      <td>2010.00</td>\n",
       "      <td>147784.25</td>\n",
       "      <td>33424.00</td>\n",
       "    </tr>\n",
       "    <tr>\n",
       "      <th>50%</th>\n",
       "      <td>337986.50</td>\n",
       "      <td>7.00</td>\n",
       "      <td>2010.00</td>\n",
       "      <td>300000.00</td>\n",
       "      <td>149029.00</td>\n",
       "    </tr>\n",
       "    <tr>\n",
       "      <th>75%</th>\n",
       "      <td>416683.75</td>\n",
       "      <td>13.00</td>\n",
       "      <td>2010.00</td>\n",
       "      <td>444086.50</td>\n",
       "      <td>294011.25</td>\n",
       "    </tr>\n",
       "    <tr>\n",
       "      <th>max</th>\n",
       "      <td>915386.00</td>\n",
       "      <td>99.00</td>\n",
       "      <td>2010.00</td>\n",
       "      <td>242345898.00</td>\n",
       "      <td>18277547.00</td>\n",
       "    </tr>\n",
       "  </tbody>\n",
       "</table>\n",
       "</div>"
      ],
      "text/plain": [
       "       PROJECT_ID   CONGRESSIONAL_DISTRICT        FY   FY_TOTAL_COST  \\\n",
       "count   111400.00                104072.00 111400.00        90694.00   \n",
       "mean    354577.76                    11.36   2010.00       509165.57   \n",
       "std     138390.39                    14.71      0.00      1792130.10   \n",
       "min     121219.00                     0.00   2010.00            1.00   \n",
       "25%     295266.75                     3.00   2010.00       147784.25   \n",
       "50%     337986.50                     7.00   2010.00       300000.00   \n",
       "75%     416683.75                    13.00   2010.00       444086.50   \n",
       "max     915386.00                    99.00   2010.00    242345898.00   \n",
       "\n",
       "        FY_TOTAL_COST_SUB_PROJECTS  \n",
       "count                     18474.00  \n",
       "mean                     230180.16  \n",
       "std                      439546.80  \n",
       "min                           1.00  \n",
       "25%                       33424.00  \n",
       "50%                      149029.00  \n",
       "75%                      294011.25  \n",
       "max                    18277547.00  "
      ]
     },
     "execution_count": 14,
     "metadata": {},
     "output_type": "execute_result"
    }
   ],
   "source": [
    "grants_2010.describe()"
   ]
  },
  {
   "cell_type": "markdown",
   "metadata": {},
   "source": [
    "## Columns"
   ]
  },
  {
   "cell_type": "code",
   "execution_count": 15,
   "metadata": {},
   "outputs": [
    {
     "data": {
      "text/plain": [
       "Index(['PROJECT_ID', ' PROJECT_TERMS', ' PROJECT_TITLE', ' DEPARTMENT',\n",
       "       ' AGENCY', ' IC_CENTER', ' PROJECT_NUMBER', ' PROJECT_START_DATE',\n",
       "       ' PROJECT_END_DATE', ' CONTACT_PI_PROJECT_LEADER', ' OTHER_PIS',\n",
       "       ' CONGRESSIONAL_DISTRICT', ' DUNS_NUMBER', ' ORGANIZATION_NAME',\n",
       "       ' ORGANIZATION_CITY', ' ORGANIZATION_STATE', ' ORGANIZATION_ZIP',\n",
       "       ' ORGANIZATION_COUNTRY', ' BUDGET_START_DATE', ' BUDGET_END_DATE',\n",
       "       ' CFDA_CODE', ' FY', ' FY_TOTAL_COST', ' FY_TOTAL_COST_SUB_PROJECTS'],\n",
       "      dtype='object')"
      ]
     },
     "execution_count": 15,
     "metadata": {},
     "output_type": "execute_result"
    }
   ],
   "source": [
    "# Check the column names\n",
    "# We can notice that there is a white space in front of the column names\n",
    "grants_2010.columns"
   ]
  },
  {
   "cell_type": "code",
   "execution_count": 16,
   "metadata": {},
   "outputs": [
    {
     "name": "stderr",
     "output_type": "stream",
     "text": [
      "C:\\Users\\Ekaterina\\anaconda3\\lib\\site-packages\\IPython\\core\\interactiveshell.py:3146: DtypeWarning: Columns (12,20) have mixed types.Specify dtype option on import or set low_memory=False.\n",
      "  has_raised = await self.run_ast_nodes(code_ast.body, cell_name,\n"
     ]
    }
   ],
   "source": [
    "# We can remove the white space at the beginning with \"skipinitialspace=True\" argument\n",
    "# Read-in a CSV file\n",
    "# Windows users\n",
    "grants_2010 = pd.read_csv(path + 'Grants_Projects/Grants_Projects/FedRePORTER_PRJ_C_FY2010.csv', skipinitialspace=True)\n",
    "# Mac users - uncomment this line and run the code\n",
    "# grants_2010 = pd.read_csv('Grants_Projects/FedRePORTER_PRJ_C_FY2010.csv')"
   ]
  },
  {
   "cell_type": "code",
   "execution_count": 17,
   "metadata": {},
   "outputs": [
    {
     "data": {
      "text/plain": [
       "Index(['PROJECT_ID', 'PROJECT_TERMS', 'PROJECT_TITLE', 'DEPARTMENT', 'AGENCY',\n",
       "       'IC_CENTER', 'PROJECT_NUMBER', 'PROJECT_START_DATE', 'PROJECT_END_DATE',\n",
       "       'CONTACT_PI_PROJECT_LEADER', 'OTHER_PIS', 'CONGRESSIONAL_DISTRICT',\n",
       "       'DUNS_NUMBER', 'ORGANIZATION_NAME', 'ORGANIZATION_CITY',\n",
       "       'ORGANIZATION_STATE', 'ORGANIZATION_ZIP', 'ORGANIZATION_COUNTRY',\n",
       "       'BUDGET_START_DATE', 'BUDGET_END_DATE', 'CFDA_CODE', 'FY',\n",
       "       'FY_TOTAL_COST', 'FY_TOTAL_COST_SUB_PROJECTS'],\n",
       "      dtype='object')"
      ]
     },
     "execution_count": 17,
     "metadata": {},
     "output_type": "execute_result"
    }
   ],
   "source": [
    "# Check the column names\n",
    "# Now the white space at the beginning of the column names is removed\n",
    "grants_2010.columns"
   ]
  },
  {
   "cell_type": "code",
   "execution_count": 18,
   "metadata": {},
   "outputs": [
    {
     "data": {
      "text/plain": [
       "array(['NASA', 'NSF', 'EPA', 'NIH', 'CNRM', 'AHRQ', 'FDA', 'CDMRP', 'VA',\n",
       "       'ALLCDC', 'NIFA', 'ARS', 'NIDILRR', 'CCCRP', 'DVBIC'], dtype=object)"
      ]
     },
     "execution_count": 18,
     "metadata": {},
     "output_type": "execute_result"
    }
   ],
   "source": [
    "# find out how many different agencies are there in the data\n",
    "grants_2010['AGENCY'].unique()"
   ]
  },
  {
   "cell_type": "code",
   "execution_count": 19,
   "metadata": {},
   "outputs": [
    {
     "data": {
      "text/plain": [
       "AGENCY\n",
       "NIH       85791\n",
       "NSF       13632\n",
       "ALLCDC     4521\n",
       "NIFA       3325\n",
       "NASA       1903\n",
       "Name: PROJECT_ID, dtype: int64"
      ]
     },
     "execution_count": 19,
     "metadata": {},
     "output_type": "execute_result"
    }
   ],
   "source": [
    "# calculate how many grants (unique project ids) each agency funded\n",
    "# step1: in the groupby() method, we pass the column we want to group by\n",
    "# step2: use the nunique() method to count the number of unique values (in this case, number of unique project ids for each agency)\n",
    "# step3: sort the results in descending order (set the ascending parameter to False)\n",
    "\n",
    "grants_2010_agency = grants_2010.groupby('AGENCY')['PROJECT_ID'].nunique().sort_values(ascending=False)\n",
    "grants_2010_agency.head()"
   ]
  },
  {
   "cell_type": "markdown",
   "metadata": {},
   "source": [
    "## Subsetting"
   ]
  },
  {
   "cell_type": "code",
   "execution_count": 20,
   "metadata": {},
   "outputs": [
    {
     "data": {
      "text/html": [
       "<div>\n",
       "<style scoped>\n",
       "    .dataframe tbody tr th:only-of-type {\n",
       "        vertical-align: middle;\n",
       "    }\n",
       "\n",
       "    .dataframe tbody tr th {\n",
       "        vertical-align: top;\n",
       "    }\n",
       "\n",
       "    .dataframe thead th {\n",
       "        text-align: right;\n",
       "    }\n",
       "</style>\n",
       "<table border=\"1\" class=\"dataframe\">\n",
       "  <thead>\n",
       "    <tr style=\"text-align: right;\">\n",
       "      <th></th>\n",
       "      <th>PROJECT_ID</th>\n",
       "      <th>FY_TOTAL_COST</th>\n",
       "      <th>PROJECT_TITLE</th>\n",
       "      <th>AGENCY</th>\n",
       "    </tr>\n",
       "  </thead>\n",
       "  <tbody>\n",
       "    <tr>\n",
       "      <th>0</th>\n",
       "      <td>121219</td>\n",
       "      <td>449452.00</td>\n",
       "      <td>THIS IS A PROPOSAL FOR GROUND-BASED RESEARCH O...</td>\n",
       "      <td>NASA</td>\n",
       "    </tr>\n",
       "    <tr>\n",
       "      <th>1</th>\n",
       "      <td>121220</td>\n",
       "      <td>112500.00</td>\n",
       "      <td>CONTINUED OPERATION OF THE AEROACOUSTICS RESEA...</td>\n",
       "      <td>NASA</td>\n",
       "    </tr>\n",
       "    <tr>\n",
       "      <th>2</th>\n",
       "      <td>121221</td>\n",
       "      <td>546153.00</td>\n",
       "      <td>GRAVITATIONAL-WAVE ASTRONOMY WITH BINARY COMPA...</td>\n",
       "      <td>NSF</td>\n",
       "    </tr>\n",
       "    <tr>\n",
       "      <th>3</th>\n",
       "      <td>121222</td>\n",
       "      <td>78594.00</td>\n",
       "      <td>INFLUENCE OF THE INDONESIAN THROUGHFLOW IN THE...</td>\n",
       "      <td>NSF</td>\n",
       "    </tr>\n",
       "    <tr>\n",
       "      <th>4</th>\n",
       "      <td>121223</td>\n",
       "      <td>16883.00</td>\n",
       "      <td>US-MEXICO WORKSHOP ON INTERACTIVE AND UBIQUITO...</td>\n",
       "      <td>NSF</td>\n",
       "    </tr>\n",
       "  </tbody>\n",
       "</table>\n",
       "</div>"
      ],
      "text/plain": [
       "   PROJECT_ID  FY_TOTAL_COST  \\\n",
       "0      121219      449452.00   \n",
       "1      121220      112500.00   \n",
       "2      121221      546153.00   \n",
       "3      121222       78594.00   \n",
       "4      121223       16883.00   \n",
       "\n",
       "                                       PROJECT_TITLE AGENCY  \n",
       "0  THIS IS A PROPOSAL FOR GROUND-BASED RESEARCH O...   NASA  \n",
       "1  CONTINUED OPERATION OF THE AEROACOUSTICS RESEA...   NASA  \n",
       "2  GRAVITATIONAL-WAVE ASTRONOMY WITH BINARY COMPA...    NSF  \n",
       "3  INFLUENCE OF THE INDONESIAN THROUGHFLOW IN THE...    NSF  \n",
       "4  US-MEXICO WORKSHOP ON INTERACTIVE AND UBIQUITO...    NSF  "
      ]
     },
     "execution_count": 20,
     "metadata": {},
     "output_type": "execute_result"
    }
   ],
   "source": [
    "# Select only specific columns - we would use double brackets for that\n",
    "grants_2010_subset = grants_2010[['PROJECT_ID','FY_TOTAL_COST','PROJECT_TITLE','AGENCY']]\n",
    "grants_2010_subset.head()"
   ]
  },
  {
   "cell_type": "markdown",
   "metadata": {},
   "source": [
    "Note: Another way to do this is to only read-in necessary columns when loading the data: \n",
    "`grants_2010 = pd.read_csv(path + 'Grants/Projects/FedRePORTER_PRJ_C_FY2010.csv', skipinitialspace=True, usecols=['PROJECT_ID', 'FY_TOTAL_COST','PROJECT_TITLE','AGENCY'])`"
   ]
  },
  {
   "cell_type": "code",
   "execution_count": 21,
   "metadata": {},
   "outputs": [
    {
     "data": {
      "text/html": [
       "<div>\n",
       "<style scoped>\n",
       "    .dataframe tbody tr th:only-of-type {\n",
       "        vertical-align: middle;\n",
       "    }\n",
       "\n",
       "    .dataframe tbody tr th {\n",
       "        vertical-align: top;\n",
       "    }\n",
       "\n",
       "    .dataframe thead th {\n",
       "        text-align: right;\n",
       "    }\n",
       "</style>\n",
       "<table border=\"1\" class=\"dataframe\">\n",
       "  <thead>\n",
       "    <tr style=\"text-align: right;\">\n",
       "      <th></th>\n",
       "      <th>PROJECT_ID</th>\n",
       "      <th>FY_TOTAL_COST</th>\n",
       "      <th>PROJECT_TITLE</th>\n",
       "      <th>AGENCY</th>\n",
       "    </tr>\n",
       "  </thead>\n",
       "  <tbody>\n",
       "    <tr>\n",
       "      <th>0</th>\n",
       "      <td>121219</td>\n",
       "      <td>449452.00</td>\n",
       "      <td>THIS IS A PROPOSAL FOR GROUND-BASED RESEARCH O...</td>\n",
       "      <td>NASA</td>\n",
       "    </tr>\n",
       "    <tr>\n",
       "      <th>1</th>\n",
       "      <td>121220</td>\n",
       "      <td>112500.00</td>\n",
       "      <td>CONTINUED OPERATION OF THE AEROACOUSTICS RESEA...</td>\n",
       "      <td>NASA</td>\n",
       "    </tr>\n",
       "    <tr>\n",
       "      <th>2</th>\n",
       "      <td>121221</td>\n",
       "      <td>546153.00</td>\n",
       "      <td>GRAVITATIONAL-WAVE ASTRONOMY WITH BINARY COMPA...</td>\n",
       "      <td>NSF</td>\n",
       "    </tr>\n",
       "    <tr>\n",
       "      <th>3</th>\n",
       "      <td>121222</td>\n",
       "      <td>78594.00</td>\n",
       "      <td>INFLUENCE OF THE INDONESIAN THROUGHFLOW IN THE...</td>\n",
       "      <td>NSF</td>\n",
       "    </tr>\n",
       "    <tr>\n",
       "      <th>5</th>\n",
       "      <td>121224</td>\n",
       "      <td>162314.00</td>\n",
       "      <td>CAREER: COLLABORATIVE COMMUNICATION AND STORAG...</td>\n",
       "      <td>NSF</td>\n",
       "    </tr>\n",
       "  </tbody>\n",
       "</table>\n",
       "</div>"
      ],
      "text/plain": [
       "   PROJECT_ID  FY_TOTAL_COST  \\\n",
       "0      121219      449452.00   \n",
       "1      121220      112500.00   \n",
       "2      121221      546153.00   \n",
       "3      121222       78594.00   \n",
       "5      121224      162314.00   \n",
       "\n",
       "                                       PROJECT_TITLE AGENCY  \n",
       "0  THIS IS A PROPOSAL FOR GROUND-BASED RESEARCH O...   NASA  \n",
       "1  CONTINUED OPERATION OF THE AEROACOUSTICS RESEA...   NASA  \n",
       "2  GRAVITATIONAL-WAVE ASTRONOMY WITH BINARY COMPA...    NSF  \n",
       "3  INFLUENCE OF THE INDONESIAN THROUGHFLOW IN THE...    NSF  \n",
       "5  CAREER: COLLABORATIVE COMMUNICATION AND STORAG...    NSF  "
      ]
     },
     "execution_count": 21,
     "metadata": {},
     "output_type": "execute_result"
    }
   ],
   "source": [
    "# Select only projects with above 50,000 in cost\n",
    "grants_2010_subset_above_50000 = grants_2010_subset[grants_2010_subset['FY_TOTAL_COST'] >= 50000]\n",
    "grants_2010_subset_above_50000.head()"
   ]
  },
  {
   "cell_type": "code",
   "execution_count": 22,
   "metadata": {},
   "outputs": [
    {
     "data": {
      "text/html": [
       "<div>\n",
       "<style scoped>\n",
       "    .dataframe tbody tr th:only-of-type {\n",
       "        vertical-align: middle;\n",
       "    }\n",
       "\n",
       "    .dataframe tbody tr th {\n",
       "        vertical-align: top;\n",
       "    }\n",
       "\n",
       "    .dataframe thead th {\n",
       "        text-align: right;\n",
       "    }\n",
       "</style>\n",
       "<table border=\"1\" class=\"dataframe\">\n",
       "  <thead>\n",
       "    <tr style=\"text-align: right;\">\n",
       "      <th></th>\n",
       "      <th>PROJECT_ID</th>\n",
       "      <th>FY_TOTAL_COST</th>\n",
       "      <th>PROJECT_TITLE</th>\n",
       "      <th>AGENCY</th>\n",
       "    </tr>\n",
       "  </thead>\n",
       "  <tbody>\n",
       "    <tr>\n",
       "      <th>2</th>\n",
       "      <td>121221</td>\n",
       "      <td>546153.00</td>\n",
       "      <td>GRAVITATIONAL-WAVE ASTRONOMY WITH BINARY COMPA...</td>\n",
       "      <td>NSF</td>\n",
       "    </tr>\n",
       "    <tr>\n",
       "      <th>3</th>\n",
       "      <td>121222</td>\n",
       "      <td>78594.00</td>\n",
       "      <td>INFLUENCE OF THE INDONESIAN THROUGHFLOW IN THE...</td>\n",
       "      <td>NSF</td>\n",
       "    </tr>\n",
       "    <tr>\n",
       "      <th>5</th>\n",
       "      <td>121224</td>\n",
       "      <td>162314.00</td>\n",
       "      <td>CAREER: COLLABORATIVE COMMUNICATION AND STORAG...</td>\n",
       "      <td>NSF</td>\n",
       "    </tr>\n",
       "    <tr>\n",
       "      <th>6</th>\n",
       "      <td>121225</td>\n",
       "      <td>272164.00</td>\n",
       "      <td>SHF:SM: A TIME-PREDICTABLE MULTICORE/MANYCORE ...</td>\n",
       "      <td>NSF</td>\n",
       "    </tr>\n",
       "    <tr>\n",
       "      <th>7</th>\n",
       "      <td>121226</td>\n",
       "      <td>1151411.00</td>\n",
       "      <td>COLLABORATIVE RESEARCH: EFFECTS OF LAND-USE, P...</td>\n",
       "      <td>NSF</td>\n",
       "    </tr>\n",
       "  </tbody>\n",
       "</table>\n",
       "</div>"
      ],
      "text/plain": [
       "   PROJECT_ID  FY_TOTAL_COST  \\\n",
       "2      121221      546153.00   \n",
       "3      121222       78594.00   \n",
       "5      121224      162314.00   \n",
       "6      121225      272164.00   \n",
       "7      121226     1151411.00   \n",
       "\n",
       "                                       PROJECT_TITLE AGENCY  \n",
       "2  GRAVITATIONAL-WAVE ASTRONOMY WITH BINARY COMPA...    NSF  \n",
       "3  INFLUENCE OF THE INDONESIAN THROUGHFLOW IN THE...    NSF  \n",
       "5  CAREER: COLLABORATIVE COMMUNICATION AND STORAG...    NSF  \n",
       "6  SHF:SM: A TIME-PREDICTABLE MULTICORE/MANYCORE ...    NSF  \n",
       "7  COLLABORATIVE RESEARCH: EFFECTS OF LAND-USE, P...    NSF  "
      ]
     },
     "execution_count": 22,
     "metadata": {},
     "output_type": "execute_result"
    }
   ],
   "source": [
    "# Select specific agencies - e.g. NIH, NSF using .isin() function\n",
    "grants_2010_subset_above_50000[grants_2010_subset_above_50000['AGENCY'].isin(['NIH', 'NSF'])].head()"
   ]
  },
  {
   "cell_type": "code",
   "execution_count": 23,
   "metadata": {},
   "outputs": [
    {
     "data": {
      "text/html": [
       "<div>\n",
       "<style scoped>\n",
       "    .dataframe tbody tr th:only-of-type {\n",
       "        vertical-align: middle;\n",
       "    }\n",
       "\n",
       "    .dataframe tbody tr th {\n",
       "        vertical-align: top;\n",
       "    }\n",
       "\n",
       "    .dataframe thead th {\n",
       "        text-align: right;\n",
       "    }\n",
       "</style>\n",
       "<table border=\"1\" class=\"dataframe\">\n",
       "  <thead>\n",
       "    <tr style=\"text-align: right;\">\n",
       "      <th></th>\n",
       "      <th>PROJECT_ID</th>\n",
       "      <th>FY_TOTAL_COST</th>\n",
       "      <th>PROJECT_TITLE</th>\n",
       "      <th>AGENCY</th>\n",
       "    </tr>\n",
       "  </thead>\n",
       "  <tbody>\n",
       "    <tr>\n",
       "      <th>2</th>\n",
       "      <td>121221</td>\n",
       "      <td>546153.00</td>\n",
       "      <td>GRAVITATIONAL-WAVE ASTRONOMY WITH BINARY COMPA...</td>\n",
       "      <td>NSF</td>\n",
       "    </tr>\n",
       "    <tr>\n",
       "      <th>104</th>\n",
       "      <td>121323</td>\n",
       "      <td>434212.00</td>\n",
       "      <td>REU SITE: COLLABORATIVE REU IN ASTRONOMY IN FL...</td>\n",
       "      <td>NSF</td>\n",
       "    </tr>\n",
       "    <tr>\n",
       "      <th>450</th>\n",
       "      <td>121669</td>\n",
       "      <td>180000.00</td>\n",
       "      <td>THE SPACE PHYSICS LABORATORY OF THE SCHOOL OF ...</td>\n",
       "      <td>NASA</td>\n",
       "    </tr>\n",
       "    <tr>\n",
       "      <th>570</th>\n",
       "      <td>121789</td>\n",
       "      <td>50166.00</td>\n",
       "      <td>THE SPACE PHYSICS LABORATORY OF THE SCHOOL OF ...</td>\n",
       "      <td>NASA</td>\n",
       "    </tr>\n",
       "    <tr>\n",
       "      <th>815</th>\n",
       "      <td>122034</td>\n",
       "      <td>361268.00</td>\n",
       "      <td>THE DEPARTMENT OF ASTRONOMY OF THE UNIVERSITY ...</td>\n",
       "      <td>NASA</td>\n",
       "    </tr>\n",
       "  </tbody>\n",
       "</table>\n",
       "</div>"
      ],
      "text/plain": [
       "     PROJECT_ID  FY_TOTAL_COST  \\\n",
       "2        121221      546153.00   \n",
       "104      121323      434212.00   \n",
       "450      121669      180000.00   \n",
       "570      121789       50166.00   \n",
       "815      122034      361268.00   \n",
       "\n",
       "                                         PROJECT_TITLE AGENCY  \n",
       "2    GRAVITATIONAL-WAVE ASTRONOMY WITH BINARY COMPA...    NSF  \n",
       "104  REU SITE: COLLABORATIVE REU IN ASTRONOMY IN FL...    NSF  \n",
       "450  THE SPACE PHYSICS LABORATORY OF THE SCHOOL OF ...   NASA  \n",
       "570  THE SPACE PHYSICS LABORATORY OF THE SCHOOL OF ...   NASA  \n",
       "815  THE DEPARTMENT OF ASTRONOMY OF THE UNIVERSITY ...   NASA  "
      ]
     },
     "execution_count": 23,
     "metadata": {},
     "output_type": "execute_result"
    }
   ],
   "source": [
    "# Select only those grants that have \"ASTRONOMY\" in their titles with str.contains() function\n",
    "grants_2010_subset_above_50000[grants_2010_subset_above_50000['PROJECT_TITLE'].str.contains('ASTRONOMY')].head()"
   ]
  },
  {
   "cell_type": "code",
   "execution_count": 24,
   "metadata": {},
   "outputs": [
    {
     "data": {
      "text/html": [
       "<div>\n",
       "<style scoped>\n",
       "    .dataframe tbody tr th:only-of-type {\n",
       "        vertical-align: middle;\n",
       "    }\n",
       "\n",
       "    .dataframe tbody tr th {\n",
       "        vertical-align: top;\n",
       "    }\n",
       "\n",
       "    .dataframe thead th {\n",
       "        text-align: right;\n",
       "    }\n",
       "</style>\n",
       "<table border=\"1\" class=\"dataframe\">\n",
       "  <thead>\n",
       "    <tr style=\"text-align: right;\">\n",
       "      <th></th>\n",
       "      <th>PROJECT_ID</th>\n",
       "      <th>FY_TOTAL_COST</th>\n",
       "      <th>PROJECT_TITLE</th>\n",
       "      <th>AGENCY</th>\n",
       "    </tr>\n",
       "  </thead>\n",
       "  <tbody>\n",
       "    <tr>\n",
       "      <th>450</th>\n",
       "      <td>121669</td>\n",
       "      <td>180000.00</td>\n",
       "      <td>THE SPACE PHYSICS LABORATORY OF THE SCHOOL OF ...</td>\n",
       "      <td>NASA</td>\n",
       "    </tr>\n",
       "    <tr>\n",
       "      <th>570</th>\n",
       "      <td>121789</td>\n",
       "      <td>50166.00</td>\n",
       "      <td>THE SPACE PHYSICS LABORATORY OF THE SCHOOL OF ...</td>\n",
       "      <td>NASA</td>\n",
       "    </tr>\n",
       "    <tr>\n",
       "      <th>815</th>\n",
       "      <td>122034</td>\n",
       "      <td>361268.00</td>\n",
       "      <td>THE DEPARTMENT OF ASTRONOMY OF THE UNIVERSITY ...</td>\n",
       "      <td>NASA</td>\n",
       "    </tr>\n",
       "    <tr>\n",
       "      <th>6196</th>\n",
       "      <td>127415</td>\n",
       "      <td>500000.00</td>\n",
       "      <td>THE GOAL OF THIS PROPOSAL IS TO CREATE A LABOR...</td>\n",
       "      <td>NASA</td>\n",
       "    </tr>\n",
       "    <tr>\n",
       "      <th>7522</th>\n",
       "      <td>128741</td>\n",
       "      <td>200000.00</td>\n",
       "      <td>NORTHERN KENTUCKY UNIVERSITY HAS RECEIVED TWO ...</td>\n",
       "      <td>NASA</td>\n",
       "    </tr>\n",
       "  </tbody>\n",
       "</table>\n",
       "</div>"
      ],
      "text/plain": [
       "      PROJECT_ID  FY_TOTAL_COST  \\\n",
       "450       121669      180000.00   \n",
       "570       121789       50166.00   \n",
       "815       122034      361268.00   \n",
       "6196      127415      500000.00   \n",
       "7522      128741      200000.00   \n",
       "\n",
       "                                          PROJECT_TITLE AGENCY  \n",
       "450   THE SPACE PHYSICS LABORATORY OF THE SCHOOL OF ...   NASA  \n",
       "570   THE SPACE PHYSICS LABORATORY OF THE SCHOOL OF ...   NASA  \n",
       "815   THE DEPARTMENT OF ASTRONOMY OF THE UNIVERSITY ...   NASA  \n",
       "6196  THE GOAL OF THIS PROPOSAL IS TO CREATE A LABOR...   NASA  \n",
       "7522  NORTHERN KENTUCKY UNIVERSITY HAS RECEIVED TWO ...   NASA  "
      ]
     },
     "execution_count": 24,
     "metadata": {},
     "output_type": "execute_result"
    }
   ],
   "source": [
    "# Selecting with multiple conditions using &\n",
    "grants_2010_subset_above_50000[(grants_2010_subset_above_50000['AGENCY'] == 'NASA') & \n",
    "                               (grants_2010_subset_above_50000['PROJECT_TITLE'].str.contains('ASTRONOMY'))].head()"
   ]
  },
  {
   "cell_type": "markdown",
   "metadata": {},
   "source": [
    "## Data types"
   ]
  },
  {
   "cell_type": "code",
   "execution_count": 25,
   "metadata": {},
   "outputs": [
    {
     "data": {
      "text/plain": [
       "PROJECT_ID                      int64\n",
       "PROJECT_TERMS                  object\n",
       "PROJECT_TITLE                  object\n",
       "DEPARTMENT                     object\n",
       "AGENCY                         object\n",
       "IC_CENTER                      object\n",
       "PROJECT_NUMBER                 object\n",
       "PROJECT_START_DATE             object\n",
       "PROJECT_END_DATE               object\n",
       "CONTACT_PI_PROJECT_LEADER      object\n",
       "OTHER_PIS                      object\n",
       "CONGRESSIONAL_DISTRICT        float64\n",
       "DUNS_NUMBER                    object\n",
       "ORGANIZATION_NAME              object\n",
       "ORGANIZATION_CITY              object\n",
       "ORGANIZATION_STATE             object\n",
       "ORGANIZATION_ZIP               object\n",
       "ORGANIZATION_COUNTRY           object\n",
       "BUDGET_START_DATE              object\n",
       "BUDGET_END_DATE                object\n",
       "CFDA_CODE                      object\n",
       "FY                              int64\n",
       "FY_TOTAL_COST                 float64\n",
       "FY_TOTAL_COST_SUB_PROJECTS    float64\n",
       "dtype: object"
      ]
     },
     "execution_count": 25,
     "metadata": {},
     "output_type": "execute_result"
    }
   ],
   "source": [
    "# Check data types - whether a column is an integer (e.g. 10), object (e.g. strings or mixed: numeric and non-numeric),\n",
    "# or a float (e.g. 10.5)\n",
    "grants_2010.dtypes"
   ]
  },
  {
   "cell_type": "markdown",
   "metadata": {},
   "source": [
    "It would be useful for us to change the columns with dates (e.g. `PROJECT_START_DATE`) to a `datetime` object, so we can calculate the duration of a project."
   ]
  },
  {
   "cell_type": "code",
   "execution_count": 26,
   "metadata": {},
   "outputs": [],
   "source": [
    "# Change our date variable to the correct type\n",
    "grants_2010['PROJECT_START_DATE'] = pd.to_datetime(grants_2010['PROJECT_START_DATE'])\n",
    "grants_2010['PROJECT_END_DATE'] = pd.to_datetime(grants_2010['PROJECT_END_DATE'])"
   ]
  },
  {
   "cell_type": "code",
   "execution_count": 27,
   "metadata": {},
   "outputs": [
    {
     "data": {
      "text/plain": [
       "PROJECT_ID                             int64\n",
       "PROJECT_TERMS                         object\n",
       "PROJECT_TITLE                         object\n",
       "DEPARTMENT                            object\n",
       "AGENCY                                object\n",
       "IC_CENTER                             object\n",
       "PROJECT_NUMBER                        object\n",
       "PROJECT_START_DATE            datetime64[ns]\n",
       "PROJECT_END_DATE              datetime64[ns]\n",
       "CONTACT_PI_PROJECT_LEADER             object\n",
       "OTHER_PIS                             object\n",
       "CONGRESSIONAL_DISTRICT               float64\n",
       "DUNS_NUMBER                           object\n",
       "ORGANIZATION_NAME                     object\n",
       "ORGANIZATION_CITY                     object\n",
       "ORGANIZATION_STATE                    object\n",
       "ORGANIZATION_ZIP                      object\n",
       "ORGANIZATION_COUNTRY                  object\n",
       "BUDGET_START_DATE                     object\n",
       "BUDGET_END_DATE                       object\n",
       "CFDA_CODE                             object\n",
       "FY                                     int64\n",
       "FY_TOTAL_COST                        float64\n",
       "FY_TOTAL_COST_SUB_PROJECTS           float64\n",
       "dtype: object"
      ]
     },
     "execution_count": 27,
     "metadata": {},
     "output_type": "execute_result"
    }
   ],
   "source": [
    "grants_2010.dtypes"
   ]
  },
  {
   "cell_type": "markdown",
   "metadata": {},
   "source": [
    "We are now able to calculate the duration of a project:"
   ]
  },
  {
   "cell_type": "code",
   "execution_count": 28,
   "metadata": {},
   "outputs": [],
   "source": [
    "# Create a new column with the duration of a project: project_end_date minus project_start_date\n",
    "grants_2010['Duration'] = grants_2010['PROJECT_END_DATE'] - grants_2010['PROJECT_START_DATE']"
   ]
  },
  {
   "cell_type": "code",
   "execution_count": 29,
   "metadata": {},
   "outputs": [
    {
     "data": {
      "text/html": [
       "<div>\n",
       "<style scoped>\n",
       "    .dataframe tbody tr th:only-of-type {\n",
       "        vertical-align: middle;\n",
       "    }\n",
       "\n",
       "    .dataframe tbody tr th {\n",
       "        vertical-align: top;\n",
       "    }\n",
       "\n",
       "    .dataframe thead th {\n",
       "        text-align: right;\n",
       "    }\n",
       "</style>\n",
       "<table border=\"1\" class=\"dataframe\">\n",
       "  <thead>\n",
       "    <tr style=\"text-align: right;\">\n",
       "      <th></th>\n",
       "      <th>PROJECT_ID</th>\n",
       "      <th>PROJECT_START_DATE</th>\n",
       "      <th>PROJECT_END_DATE</th>\n",
       "      <th>Duration</th>\n",
       "    </tr>\n",
       "  </thead>\n",
       "  <tbody>\n",
       "    <tr>\n",
       "      <th>0</th>\n",
       "      <td>121219</td>\n",
       "      <td>2010-12-01</td>\n",
       "      <td>2013-11-30</td>\n",
       "      <td>1095 days</td>\n",
       "    </tr>\n",
       "    <tr>\n",
       "      <th>1</th>\n",
       "      <td>121220</td>\n",
       "      <td>2010-09-30</td>\n",
       "      <td>2011-09-29</td>\n",
       "      <td>364 days</td>\n",
       "    </tr>\n",
       "    <tr>\n",
       "      <th>2</th>\n",
       "      <td>121221</td>\n",
       "      <td>2010-11-01</td>\n",
       "      <td>2013-10-31</td>\n",
       "      <td>1095 days</td>\n",
       "    </tr>\n",
       "    <tr>\n",
       "      <th>3</th>\n",
       "      <td>121222</td>\n",
       "      <td>2010-10-01</td>\n",
       "      <td>2012-09-30</td>\n",
       "      <td>730 days</td>\n",
       "    </tr>\n",
       "    <tr>\n",
       "      <th>4</th>\n",
       "      <td>121223</td>\n",
       "      <td>2010-11-01</td>\n",
       "      <td>2011-10-31</td>\n",
       "      <td>364 days</td>\n",
       "    </tr>\n",
       "    <tr>\n",
       "      <th>...</th>\n",
       "      <td>...</td>\n",
       "      <td>...</td>\n",
       "      <td>...</td>\n",
       "      <td>...</td>\n",
       "    </tr>\n",
       "    <tr>\n",
       "      <th>111395</th>\n",
       "      <td>915368</td>\n",
       "      <td>2010-01-01</td>\n",
       "      <td>2012-01-01</td>\n",
       "      <td>730 days</td>\n",
       "    </tr>\n",
       "    <tr>\n",
       "      <th>111396</th>\n",
       "      <td>915372</td>\n",
       "      <td>2009-01-01</td>\n",
       "      <td>2011-01-01</td>\n",
       "      <td>730 days</td>\n",
       "    </tr>\n",
       "    <tr>\n",
       "      <th>111397</th>\n",
       "      <td>915375</td>\n",
       "      <td>2009-01-01</td>\n",
       "      <td>2014-01-01</td>\n",
       "      <td>1826 days</td>\n",
       "    </tr>\n",
       "    <tr>\n",
       "      <th>111398</th>\n",
       "      <td>915380</td>\n",
       "      <td>2009-10-25</td>\n",
       "      <td>2013-01-01</td>\n",
       "      <td>1164 days</td>\n",
       "    </tr>\n",
       "    <tr>\n",
       "      <th>111399</th>\n",
       "      <td>915386</td>\n",
       "      <td>2007-10-01</td>\n",
       "      <td>2011-03-31</td>\n",
       "      <td>1277 days</td>\n",
       "    </tr>\n",
       "  </tbody>\n",
       "</table>\n",
       "<p>111400 rows × 4 columns</p>\n",
       "</div>"
      ],
      "text/plain": [
       "        PROJECT_ID PROJECT_START_DATE PROJECT_END_DATE  Duration\n",
       "0           121219         2010-12-01       2013-11-30 1095 days\n",
       "1           121220         2010-09-30       2011-09-29  364 days\n",
       "2           121221         2010-11-01       2013-10-31 1095 days\n",
       "3           121222         2010-10-01       2012-09-30  730 days\n",
       "4           121223         2010-11-01       2011-10-31  364 days\n",
       "...            ...                ...              ...       ...\n",
       "111395      915368         2010-01-01       2012-01-01  730 days\n",
       "111396      915372         2009-01-01       2011-01-01  730 days\n",
       "111397      915375         2009-01-01       2014-01-01 1826 days\n",
       "111398      915380         2009-10-25       2013-01-01 1164 days\n",
       "111399      915386         2007-10-01       2011-03-31 1277 days\n",
       "\n",
       "[111400 rows x 4 columns]"
      ]
     },
     "execution_count": 29,
     "metadata": {},
     "output_type": "execute_result"
    }
   ],
   "source": [
    "# The results in the newly created \"duration\" column look right\n",
    "grants_2010[['PROJECT_ID', 'PROJECT_START_DATE','PROJECT_END_DATE','Duration']]"
   ]
  },
  {
   "cell_type": "markdown",
   "metadata": {},
   "source": [
    "### Merging Dataframes"
   ]
  },
  {
   "cell_type": "markdown",
   "metadata": {},
   "source": [
    "We have a common project identifier (`PROJECT_ID`) in two data sources: grant data in the `projects` folder and related grant abstracts in the `abstracts` folder."
   ]
  },
  {
   "cell_type": "markdown",
   "metadata": {},
   "source": [
    "We will merge two files based on `PROJECT_ID`, to find grant abstracts for the 2010 Federal RePORTER file from the `projects` folder."
   ]
  },
  {
   "cell_type": "code",
   "execution_count": 30,
   "metadata": {},
   "outputs": [],
   "source": [
    "# Load a 2010 Federal RePORTER file with abstracts - specify path name to the \"abstracts\" folder \n",
    "abstracts_2010 = pd.read_csv(path + \"Grants_Abstracts/Grants_Abstracts/FedRePORTER_PRJABS_C_FY2010.csv\")\n",
    "# abstracts_2010 = pd.read_csv(\"Grants_Abstracts/FedRePORTER_PRJABS_C_FY2010.csv\")"
   ]
  },
  {
   "cell_type": "code",
   "execution_count": 31,
   "metadata": {},
   "outputs": [
    {
     "data": {
      "text/html": [
       "<div>\n",
       "<style scoped>\n",
       "    .dataframe tbody tr th:only-of-type {\n",
       "        vertical-align: middle;\n",
       "    }\n",
       "\n",
       "    .dataframe tbody tr th {\n",
       "        vertical-align: top;\n",
       "    }\n",
       "\n",
       "    .dataframe thead th {\n",
       "        text-align: right;\n",
       "    }\n",
       "</style>\n",
       "<table border=\"1\" class=\"dataframe\">\n",
       "  <thead>\n",
       "    <tr style=\"text-align: right;\">\n",
       "      <th></th>\n",
       "      <th>PROJECT_ID</th>\n",
       "      <th>PROJECT_TERMS</th>\n",
       "      <th>PROJECT_TITLE</th>\n",
       "      <th>DEPARTMENT</th>\n",
       "      <th>AGENCY</th>\n",
       "      <th>IC_CENTER</th>\n",
       "      <th>PROJECT_NUMBER</th>\n",
       "      <th>PROJECT_START_DATE</th>\n",
       "      <th>PROJECT_END_DATE</th>\n",
       "      <th>CONTACT_PI_PROJECT_LEADER</th>\n",
       "      <th>...</th>\n",
       "      <th>ORGANIZATION_ZIP</th>\n",
       "      <th>ORGANIZATION_COUNTRY</th>\n",
       "      <th>BUDGET_START_DATE</th>\n",
       "      <th>BUDGET_END_DATE</th>\n",
       "      <th>CFDA_CODE</th>\n",
       "      <th>FY</th>\n",
       "      <th>FY_TOTAL_COST</th>\n",
       "      <th>FY_TOTAL_COST_SUB_PROJECTS</th>\n",
       "      <th>Duration</th>\n",
       "      <th>ABSTRACT</th>\n",
       "    </tr>\n",
       "  </thead>\n",
       "  <tbody>\n",
       "    <tr>\n",
       "      <th>0</th>\n",
       "      <td>121219</td>\n",
       "      <td>Alloys; Arizona; base; Research; Research Per...</td>\n",
       "      <td>THIS IS A PROPOSAL FOR GROUND-BASED RESEARCH O...</td>\n",
       "      <td>NASA</td>\n",
       "      <td>NASA</td>\n",
       "      <td>NaN</td>\n",
       "      <td>NNX10AV40G</td>\n",
       "      <td>2010-12-01</td>\n",
       "      <td>2013-11-30</td>\n",
       "      <td>POIRER, DAVID</td>\n",
       "      <td>...</td>\n",
       "      <td>85719-4824</td>\n",
       "      <td>UNITED STATES</td>\n",
       "      <td>NaN</td>\n",
       "      <td>NaN</td>\n",
       "      <td>43.AAA</td>\n",
       "      <td>2010</td>\n",
       "      <td>449452.00</td>\n",
       "      <td>nan</td>\n",
       "      <td>1095 days</td>\n",
       "      <td>This is a proposal for ground-based research o...</td>\n",
       "    </tr>\n",
       "  </tbody>\n",
       "</table>\n",
       "<p>1 rows × 26 columns</p>\n",
       "</div>"
      ],
      "text/plain": [
       "   PROJECT_ID                                      PROJECT_TERMS  \\\n",
       "0      121219   Alloys; Arizona; base; Research; Research Per...   \n",
       "\n",
       "                                       PROJECT_TITLE DEPARTMENT AGENCY  \\\n",
       "0  THIS IS A PROPOSAL FOR GROUND-BASED RESEARCH O...       NASA   NASA   \n",
       "\n",
       "  IC_CENTER PROJECT_NUMBER PROJECT_START_DATE PROJECT_END_DATE  \\\n",
       "0       NaN     NNX10AV40G         2010-12-01       2013-11-30   \n",
       "\n",
       "  CONTACT_PI_PROJECT_LEADER  ... ORGANIZATION_ZIP  ORGANIZATION_COUNTRY  \\\n",
       "0             POIRER, DAVID  ...       85719-4824         UNITED STATES   \n",
       "\n",
       "  BUDGET_START_DATE BUDGET_END_DATE CFDA_CODE    FY FY_TOTAL_COST  \\\n",
       "0               NaN             NaN    43.AAA  2010     449452.00   \n",
       "\n",
       "  FY_TOTAL_COST_SUB_PROJECTS  Duration  \\\n",
       "0                        nan 1095 days   \n",
       "\n",
       "                                            ABSTRACT  \n",
       "0  This is a proposal for ground-based research o...  \n",
       "\n",
       "[1 rows x 26 columns]"
      ]
     },
     "execution_count": 31,
     "metadata": {},
     "output_type": "execute_result"
    }
   ],
   "source": [
    "# Merge the original file \"df\" with \"abstracts\" dataframe on a common identifier: \"project_id\"\n",
    "# how='inner' means use the intersection of the same project ids between the two files\n",
    "\n",
    "grants_2010_abstracts = pd.merge(grants_2010, abstracts_2010, on=\"PROJECT_ID\", how='inner')\n",
    "grants_2010_abstracts.head(1)"
   ]
  },
  {
   "cell_type": "code",
   "execution_count": 32,
   "metadata": {},
   "outputs": [
    {
     "data": {
      "text/plain": [
       "107326"
      ]
     },
     "execution_count": 32,
     "metadata": {},
     "output_type": "execute_result"
    }
   ],
   "source": [
    "# Check how many projects have abstracts in the merged dataframe\n",
    "grants_2010_abstracts['PROJECT_ID'].nunique()"
   ]
  },
  {
   "cell_type": "code",
   "execution_count": 33,
   "metadata": {},
   "outputs": [
    {
     "data": {
      "text/plain": [
       "111400"
      ]
     },
     "execution_count": 33,
     "metadata": {},
     "output_type": "execute_result"
    }
   ],
   "source": [
    "# Check how many project_ids there were in the original file\n",
    "grants_2010['PROJECT_ID'].nunique()"
   ]
  },
  {
   "cell_type": "code",
   "execution_count": 34,
   "metadata": {},
   "outputs": [
    {
     "data": {
      "text/plain": [
       "107326"
      ]
     },
     "execution_count": 34,
     "metadata": {},
     "output_type": "execute_result"
    }
   ],
   "source": [
    "# This is how many of them had abstracts in the \"abstracts\" file - the same number as in our \"merged_df\" dataframe\n",
    "abstracts_2010['PROJECT_ID'].nunique()"
   ]
  },
  {
   "cell_type": "markdown",
   "metadata": {},
   "source": [
    "### Saving a CSV\n",
    "You can save a copy of your dataframe as a .csv file."
   ]
  },
  {
   "cell_type": "code",
   "execution_count": 35,
   "metadata": {},
   "outputs": [
    {
     "name": "stdout",
     "output_type": "stream",
     "text": [
      "/c/Users/Ekaterina\n"
     ]
    }
   ],
   "source": [
    "# This is how you can check what is your current folder\n",
    "! pwd"
   ]
  },
  {
   "cell_type": "code",
   "execution_count": 36,
   "metadata": {},
   "outputs": [],
   "source": [
    "# You can specify in which folder you would like to save your results\n",
    "# For example, you can save it in the folder as seen above\n",
    "grants_2010_abstracts.to_csv(\"example_data.csv\", encoding='utf8')"
   ]
  },
  {
   "cell_type": "markdown",
   "metadata": {},
   "source": [
    "# Checkpoint (Assignment 2 (part one), due February 22nd)\n",
    "You can submit either Assignment 2 (part one) Federal Reporter notebook or Assignment 2 (part two) PatentsView notebook - choose one.\n",
    "### 1. How much money was spent in your field of interest (over a certain period of time of your interest)?\n",
    "### 2. Who are top five PIs and institutions in your field of interest?"
   ]
  },
  {
   "cell_type": "markdown",
   "metadata": {},
   "source": [
    "Hint: filter the grants by abstracts using the relevant keywords for your project."
   ]
  },
  {
   "cell_type": "code",
   "execution_count": null,
   "metadata": {},
   "outputs": [],
   "source": []
  },
  {
   "cell_type": "code",
   "execution_count": null,
   "metadata": {},
   "outputs": [],
   "source": []
  },
  {
   "cell_type": "code",
   "execution_count": null,
   "metadata": {},
   "outputs": [],
   "source": []
  },
  {
   "cell_type": "code",
   "execution_count": null,
   "metadata": {},
   "outputs": [],
   "source": []
  },
  {
   "cell_type": "markdown",
   "metadata": {},
   "source": [
    "# Useful Tips"
   ]
  },
  {
   "cell_type": "markdown",
   "metadata": {},
   "source": [
    "#### Load multiple years of data"
   ]
  },
  {
   "cell_type": "markdown",
   "metadata": {},
   "source": [
    "If we are interested in loading FedRePORTER files from 2010 to 2014, we can create a list with those values and use for loop as well:"
   ]
  },
  {
   "cell_type": "code",
   "execution_count": 37,
   "metadata": {},
   "outputs": [
    {
     "name": "stdout",
     "output_type": "stream",
     "text": [
      "2010\n",
      "2011\n",
      "2012\n",
      "2013\n",
      "2014\n"
     ]
    }
   ],
   "source": [
    "years = [2010, 2011, 2012, 2013, 2014]\n",
    "\n",
    "for year in years:  # for each year in a list\n",
    "    print(year)  # print that year"
   ]
  },
  {
   "cell_type": "code",
   "execution_count": 38,
   "metadata": {},
   "outputs": [
    {
     "name": "stdout",
     "output_type": "stream",
     "text": [
      "C:/Users/Ekaterina/Grants_Projects/Grants_Projects/FedRePORTER_PRJ_C_FY2010.csv\n",
      "C:/Users/Ekaterina/Grants_Projects/Grants_Projects/FedRePORTER_PRJ_C_FY2011.csv\n",
      "C:/Users/Ekaterina/Grants_Projects/Grants_Projects/FedRePORTER_PRJ_C_FY2012.csv\n",
      "C:/Users/Ekaterina/Grants_Projects/Grants_Projects/FedRePORTER_PRJ_C_FY2013.csv\n",
      "C:/Users/Ekaterina/Grants_Projects/Grants_Projects/FedRePORTER_PRJ_C_FY2014.csv\n"
     ]
    }
   ],
   "source": [
    "# We can loop through each file with specific year the following way:\n",
    "\n",
    "years = [2010, 2011, 2012, 2013, 2014]\n",
    "\n",
    "for year in years:\n",
    "    print(path + 'Grants_Projects/Grants_Projects/FedRePORTER_PRJ_C_FY' + str(year) + '.csv') # add year as a string\n",
    "    # Mac users: print('Grants_Projects/FedRePORTER_PRJ_C_FY' + str(year) + '.csv')"
   ]
  },
  {
   "cell_type": "code",
   "execution_count": 39,
   "metadata": {},
   "outputs": [],
   "source": [
    "grants_2010_2014 = []\n",
    "\n",
    "# Now loop through each file in the folder\n",
    "for year in years:\n",
    "    grant = pd.read_csv(path + 'Grants_Projects/Grants_Projects/FedRePORTER_PRJ_C_FY' + str(year) + '.csv', low_memory=False)  # read-in a given file into a dataframe\n",
    "    # Mac users: grant = pd.read_csv('Grants_Projects/FedRePORTER_PRJ_C_FY' + str(year) + '.csv', low_memory=False) \n",
    "    grants_2010_2014.append(grant)  # append that dataframe to a list\n",
    "\n",
    "# Concatenate all the dataframes together into one dataframe\n",
    "grants_2010_2014_df = pd.concat(grants_2010_2014)"
   ]
  },
  {
   "cell_type": "code",
   "execution_count": 40,
   "metadata": {},
   "outputs": [
    {
     "data": {
      "text/plain": [
       "485577"
      ]
     },
     "execution_count": 40,
     "metadata": {},
     "output_type": "execute_result"
    }
   ],
   "source": [
    "# Check the total number of rows in a concatenated dataframe\n",
    "len(grants_2010_2014_df)"
   ]
  },
  {
   "cell_type": "code",
   "execution_count": null,
   "metadata": {},
   "outputs": [],
   "source": []
  }
 ],
 "metadata": {
  "kernelspec": {
   "display_name": "Python 3",
   "language": "python",
   "name": "python3"
  },
  "language_info": {
   "codemirror_mode": {
    "name": "ipython",
    "version": 3
   },
   "file_extension": ".py",
   "mimetype": "text/x-python",
   "name": "python",
   "nbconvert_exporter": "python",
   "pygments_lexer": "ipython3",
   "version": "3.8.5"
  }
 },
 "nbformat": 4,
 "nbformat_minor": 4
}
